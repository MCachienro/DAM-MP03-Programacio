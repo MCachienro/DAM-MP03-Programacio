{
 "cells": [
  {
   "cell_type": "markdown",
   "metadata": {},
   "source": [
    "<div style=\"display: flex; width: 100%;\">\n",
    "    <div style=\"flex: 1; padding: 0px;\">\n",
    "        <p>© Albert Palacios Jiménez, 2023</p>\n",
    "    </div>\n",
    "    <div style=\"flex: 1; padding: 0px; text-align: right;\">\n",
    "        <img src=\"../../assets/ieti.png\" height=\"32\" alt=\"Logo de IETI\" style=\"max-height: 32px;\">\n",
    "    </div>\n",
    "</div>\n",
    "<hr/>"
   ]
  },
  {
   "cell_type": "markdown",
   "metadata": {},
   "source": [
    "### Exercici 0\n",
    "\n",
    "Fes un programa que amb tres variables numèriques:\n",
    "\n",
    "* Una anomenada 'x' amb valor 1345 \n",
    "* La segona anomenada 'y' amb valor 64\n",
    "* La tercera s'ha de dir 'resultat' i serà el valor de calcular x dividit per y (simbol /)\n",
    "\n",
    "Finalment, el programa ha de mostrar dos textos: \n",
    "\n",
    "'El resultat de la divisió és ?', on ? mostra el resultat de la operació anterior\n",
    "\n",
    "'El resultat arrodonit de la divisió és ?', on ? mostra el resultat de la operació anterior amb 2 decimals"
   ]
  }
 ],
 "metadata": {
  "language_info": {
   "name": "python"
  }
 },
 "nbformat": 4,
 "nbformat_minor": 2
}
