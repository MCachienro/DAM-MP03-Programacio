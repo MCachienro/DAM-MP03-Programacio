{
 "cells": [
  {
   "cell_type": "markdown",
   "metadata": {},
   "source": [
    "<div style=\"display: flex; width: 100%;\">\n",
    "    <div style=\"flex: 1; padding: 0px;\">\n",
    "        <p>© Albert Palacios Jiménez, 2023</p>\n",
    "    </div>\n",
    "    <div style=\"flex: 1; padding: 0px; text-align: right;\">\n",
    "        <img src=\"../../assets/ieti.png\" height=\"32\" alt=\"Logo de IETI\" style=\"max-height: 32px;\">\n",
    "    </div>\n",
    "</div>\n",
    "<hr/>"
   ]
  },
  {
   "cell_type": "markdown",
   "metadata": {},
   "source": [
    "### Exercici 0\n",
    "\n",
    "Crea la classe 'Cotxe' que tindrà els atributs privats:\n",
    "\n",
    "- color de tipus cadena de text\n",
    "- marca de tipus cadena de text\n",
    "- model de tipus cadena de text\n",
    "- cilindrada de tipus enter\n",
    "- any de tipus enter\n",
    "\n",
    "El constructor ha d'iniciar els atributs segons l'ordre anterior.\n",
    "\n",
    "Fes 'Getters' i 'Setters' per llegir i escriure els atributs anteriors.\n",
    "\n",
    "Sobreescriu la funció 'toString' que mostri les dades dels atributs de cada instància. D'aquesta manera:\n",
    "\n",
    "Model: CITROEN DS; Color: Gris; Cilindrada: 2175cc; Any: 1959\n",
    "\n",
    "Alsehores, fes un programa JAVA que crei els següents dos models de cotxe i en mostri les dades:\n",
    "\n",
    "- Verd, SEAT, 127, 1438, 1972\n",
    "- Gris, CITROEN, DS, 2175, \n",
    "\n",
    "Assegura't que passa els testos:\n",
    "\n",
    "```bash\n",
    "./runTest.sh com.project.TestMain#testMainOutput\n",
    "./runTest.sh com.project.TestMain#testMainSettersGetters\n",
    "./runTest.sh com.project.TestMain#testMainPrivateAttributes\n",
    "```"
   ]
  }
 ],
 "metadata": {
  "language_info": {
   "name": "python"
  }
 },
 "nbformat": 4,
 "nbformat_minor": 2
}
