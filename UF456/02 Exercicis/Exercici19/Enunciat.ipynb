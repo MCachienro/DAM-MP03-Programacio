{
 "cells": [
  {
   "cell_type": "markdown",
   "metadata": {},
   "source": [
    "<div style=\"display: flex; width: 100%;\">\n",
    "    <div style=\"flex: 1; padding: 0px;\">\n",
    "        <p>© Albert Palacios Jiménez, 2023</p>\n",
    "    </div>\n",
    "    <div style=\"flex: 1; padding: 0px; text-align: right;\">\n",
    "        <img src=\"../../assets/ieti.png\" height=\"32\" alt=\"Logo de IETI\" style=\"max-height: 32px;\">\n",
    "    </div>\n",
    "</div>\n",
    "<hr/>"
   ]
  },
  {
   "cell_type": "markdown",
   "metadata": {},
   "source": [
    "### Exercici 19\n",
    "\n",
    "Fes una funció anomenada 'esParell' que retorni si un número és parell o imparell.\n",
    "\n",
    "La resposta ha de ser el text 'X és parell' si és imparell torna \"X és imparell\"\n",
    "\n",
    "**Nota**: Quan es fa un 'return' ja es surt de la funció, no cal fer un 'else'.\n",
    "\n",
    "Un número és parell quan dividida per 2 no té residu."
   ]
  }
 ],
 "metadata": {
  "language_info": {
   "name": "python"
  }
 },
 "nbformat": 4,
 "nbformat_minor": 2
}
