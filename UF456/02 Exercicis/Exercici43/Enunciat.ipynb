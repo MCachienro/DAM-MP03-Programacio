{
 "cells": [
  {
   "cell_type": "markdown",
   "metadata": {},
   "source": [
    "<div style=\"display: flex; width: 100%;\">\n",
    "    <div style=\"flex: 1; padding: 0px;\">\n",
    "        <p>© Albert Palacios Jiménez, 2023</p>\n",
    "    </div>\n",
    "    <div style=\"flex: 1; padding: 0px; text-align: right;\">\n",
    "        <img src=\"../../assets/ieti.png\" height=\"32\" alt=\"Logo de IETI\" style=\"max-height: 32px;\">\n",
    "    </div>\n",
    "</div>\n",
    "<hr/>"
   ]
  },
  {
   "cell_type": "markdown",
   "metadata": {},
   "source": [
    "### Exercici 43\n",
    "\n",
    "Fes un programa que donat un rang determinat, mostri els números imparells.\n",
    "\n",
    "Hauràs de fer la funció 'esImparell' que retorna 'True' si el número és imparell i 'False' si és parell.\n",
    "\n",
    "Per exemple:\n",
    "\n",
    "- Entre 2 i 5: 3, 5\n",
    "\n",
    "- Entre 10 i 15: 11, 13, 15"
   ]
  }
 ],
 "metadata": {
  "language_info": {
   "name": "python"
  }
 },
 "nbformat": 4,
 "nbformat_minor": 2
}
