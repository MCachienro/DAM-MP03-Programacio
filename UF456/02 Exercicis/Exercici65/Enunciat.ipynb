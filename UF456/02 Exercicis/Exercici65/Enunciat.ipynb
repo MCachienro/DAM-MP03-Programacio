{
 "cells": [
  {
   "cell_type": "markdown",
   "metadata": {},
   "source": [
    "<div style=\"display: flex; width: 100%;\">\n",
    "    <div style=\"flex: 1; padding: 0px;\">\n",
    "        <p>© Albert Palacios Jiménez, 2023</p>\n",
    "    </div>\n",
    "    <div style=\"flex: 1; padding: 0px; text-align: right;\">\n",
    "        <img src=\"../../assets/ieti.png\" height=\"32\" alt=\"Logo de IETI\" style=\"max-height: 32px;\">\n",
    "    </div>\n",
    "</div>\n",
    "<hr/>"
   ]
  },
  {
   "cell_type": "markdown",
   "metadata": {},
   "source": [
    "### Exercici 65\n",
    "\n",
    "Fes un programa que demana a l'usuari una llista de números enters separats per comes.\n",
    "\n",
    "A continuació fes una funció (calcula_valors) que retorni aquests valors:\n",
    "\n",
    "* La suma de tots els elements de la llista\n",
    "* El valor més gran de la llista\n",
    "* El valor més petit de la llista\n",
    "* La mitjana de tots els elements de la llista\n",
    "\n",
    "Comprova:\n",
    "\n",
    "* \"4,8,7,2,5,3,9\" > Suma = 38, Màxim = 9, Mínim = 2, Mitjana = 5.43\n",
    "* \"7,2,4,8,4,2\" > Suma = 27, Màxim = 8, Mínim = 2, Mitjana = 4.5"
   ]
  }
 ],
 "metadata": {
  "language_info": {
   "name": "python"
  }
 },
 "nbformat": 4,
 "nbformat_minor": 2
}
