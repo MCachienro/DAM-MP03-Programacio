{
 "cells": [
  {
   "cell_type": "markdown",
   "metadata": {},
   "source": [
    "<div style=\"display: flex; width: 100%;\">\n",
    "    <div style=\"flex: 1; padding: 0px;\">\n",
    "        <p>© Albert Palacios Jiménez, 2023</p>\n",
    "    </div>\n",
    "    <div style=\"flex: 1; padding: 0px; text-align: right;\">\n",
    "        <img src=\"../../assets/ieti.png\" height=\"32\" alt=\"Logo de IETI\" style=\"max-height: 32px;\">\n",
    "    </div>\n",
    "</div>\n",
    "<hr/>"
   ]
  },
  {
   "cell_type": "markdown",
   "metadata": {},
   "source": [
    "### Exercici 46\n",
    "\n",
    "Fes un programa que faci 5 bucles per mostrar la següent taula:\n",
    "```text\n",
    "1     2     3     4     5     6     7     8     9     10\n",
    "2     4     6     8     10    12    14    16    18    20\n",
    "20    22    24    26    28    30    32    34    36    38\n",
    "10    14    18    22    26    30    34    38    42    46\n",
    "40    35    30    25    20    15    10    5     0     -5\n",
    "```"
   ]
  }
 ],
 "metadata": {
  "language_info": {
   "name": "python"
  }
 },
 "nbformat": 4,
 "nbformat_minor": 2
}
