{
 "cells": [
  {
   "cell_type": "markdown",
   "metadata": {},
   "source": [
    "<div style=\"display: flex; width: 100%;\">\n",
    "    <div style=\"flex: 1; padding: 0px;\">\n",
    "        <p>© Albert Palacios Jiménez, 2023</p>\n",
    "    </div>\n",
    "    <div style=\"flex: 1; padding: 0px; text-align: right;\">\n",
    "        <img src=\"../../assets/ieti.png\" height=\"32\" alt=\"Logo de IETI\" style=\"max-height: 32px;\">\n",
    "    </div>\n",
    "</div>\n",
    "<hr/>"
   ]
  },
  {
   "cell_type": "markdown",
   "metadata": {},
   "source": [
    "### Exercici 24\n",
    "\n",
    "Fes un programa que demani una xifra a l'usuari entre 0 i 100.000\n",
    "\n",
    "El programa ha de dir: \"Per un import de X, els impostos que has de pagar són un Y% i el total és Z\"\n",
    "\n",
    "Aleshores:\n",
    "\n",
    "- Si el valor és menor a 10.000 calcularà un 10% del valor. (Y serà 10% i Z el resultat del càlcul)\n",
    "\n",
    "- Si el valor està entre 10.001 i 50.000 calcularà un 20% del valor. (Y serà 20% i Z el resultat del càlcul)\n",
    "\n",
    "- Si el valor és superior a 50.000 calcularà un 30% del valor (Y serà 30% i Z el resultat del càlcul)\n",
    "\n",
    "Recorda que Z ha de tornar el total a pagar, és a dir els impostos més el valor inicial."
   ]
  }
 ],
 "metadata": {
  "language_info": {
   "name": "python"
  }
 },
 "nbformat": 4,
 "nbformat_minor": 2
}
