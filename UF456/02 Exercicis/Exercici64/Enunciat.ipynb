{
 "cells": [
  {
   "cell_type": "markdown",
   "metadata": {},
   "source": [
    "<div style=\"display: flex; width: 100%;\">\n",
    "    <div style=\"flex: 1; padding: 0px;\">\n",
    "        <p>© Albert Palacios Jiménez, 2023</p>\n",
    "    </div>\n",
    "    <div style=\"flex: 1; padding: 0px; text-align: right;\">\n",
    "        <img src=\"../../assets/ieti.png\" height=\"32\" alt=\"Logo de IETI\" style=\"max-height: 32px;\">\n",
    "    </div>\n",
    "</div>\n",
    "<hr/>"
   ]
  },
  {
   "cell_type": "markdown",
   "metadata": {},
   "source": [
    "### Exercici 64\n",
    "\n",
    "Fes una funció que rebi una llista de cadenes de text que representen números, i retorni una llista de números.\n",
    "\n",
    "Fes-ho amb llistes:\n",
    "\n",
    "ArrayList<String> numeros = new ArrayList<>();\n",
    "numeros.add(\"4\");\n",
    "numeros.add(\"5\");\n",
    "numeros.add(\"6\");\n",
    "numeros.add(\"7\");"
   ]
  }
 ],
 "metadata": {
  "language_info": {
   "name": "python"
  }
 },
 "nbformat": 4,
 "nbformat_minor": 2
}
