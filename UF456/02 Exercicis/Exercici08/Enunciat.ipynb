{
 "cells": [
  {
   "cell_type": "markdown",
   "metadata": {},
   "source": [
    "<div style=\"display: flex; width: 100%;\">\n",
    "    <div style=\"flex: 1; padding: 0px;\">\n",
    "        <p>© Albert Palacios Jiménez, 2023</p>\n",
    "    </div>\n",
    "    <div style=\"flex: 1; padding: 0px; text-align: right;\">\n",
    "        <img src=\"../../assets/ieti.png\" height=\"32\" alt=\"Logo de IETI\" style=\"max-height: 32px;\">\n",
    "    </div>\n",
    "</div>\n",
    "<hr/>"
   ]
  },
  {
   "cell_type": "markdown",
   "metadata": {},
   "source": [
    "### Exercici 8\n",
    "\n",
    "Demana a l'usuari que escrigui 3 valors per calcular l'àrea d'un trapèzi:\n",
    "\n",
    "* Longitud de la primera base\n",
    "* Longitud de la segona base\n",
    "* Altura\n",
    "\n",
    "El càlcul és area = (base1 + base2) / (2 * altura)\n",
    "\n",
    "Mostra el resultat d'aquesta area: \"L'àrea del trapèzi és: ?\" on ? és el valor de l'area\n",
    "\n",
    "Aleshores fes servir una variable temporal, per intercanviar el valor de les bases i calcular la nova àrea (però amb les bases intercanviades)\n",
    "\n",
    "Finalment mostra: \"L'àrea del trapèzi amb les bases intercanviades és: ?\" on ? és el valor de la nova àera"
   ]
  }
 ],
 "metadata": {
  "language_info": {
   "name": "python"
  }
 },
 "nbformat": 4,
 "nbformat_minor": 2
}
