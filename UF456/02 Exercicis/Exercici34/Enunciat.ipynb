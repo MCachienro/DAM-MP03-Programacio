{
 "cells": [
  {
   "cell_type": "markdown",
   "metadata": {},
   "source": [
    "<div style=\"display: flex; width: 100%;\">\n",
    "    <div style=\"flex: 1; padding: 0px;\">\n",
    "        <p>© Albert Palacios Jiménez, 2023</p>\n",
    "    </div>\n",
    "    <div style=\"flex: 1; padding: 0px; text-align: right;\">\n",
    "        <img src=\"../../assets/ieti.png\" height=\"32\" alt=\"Logo de IETI\" style=\"max-height: 32px;\">\n",
    "    </div>\n",
    "</div>\n",
    "<hr/>"
   ]
  },
  {
   "cell_type": "markdown",
   "metadata": {},
   "source": [
    "### Exercici 34\n",
    "\n",
    "Un petit hotel a la costa vol informatitzar el seu sistema de reserves. \n",
    "\n",
    "Necessiten una funció (calcula_reserva) que determini el preu total d'una reserva segons el nombre de nits, el tipus d'habitació i si el client vol esmorzar inclòs.\n",
    "\n",
    "Les tarifes són:\n",
    "```text\n",
    "Habitació estàndard: 50€ per nit.\n",
    "Habitació amb vistes al mar: 70€ per nit.\n",
    "Suite amb jacuzzi: 120€ per nit.\n",
    "Esmorzar: 10€ per dia i persona.\n",
    "```\n",
    "La funció hauria d'acceptar els següents paràmetres: \n",
    "```text\n",
    "* nombre de nits\n",
    "* tipus d'habitació (estàndard, amb vistes o suite)\n",
    "* el nombre de persones que volen esmorzar.\n",
    "```\n",
    "A més, l'hotel ofereix les següents promocions:\n",
    "* Si reserves més de 5 nits, t'ofereixen un descompte del 10% sobre el total de la reserva (sense comptar l'esmorzar).\n",
    "* Si reserves una suite amb jacuzzi per més de 3 nits, l'esmorzar és gratuït.\n",
    "\n",
    "Et pot anar bé definir primer les següents funcions:\n",
    "* calcula_cost_habitacio(tipus_habitacio, nits)\n",
    "* calcula_cost_esmorzar(nombre_persones, nombre_dies)\n",
    "\n",
    "Per exemple:\n",
    "* Reserva d'una habitació estàndard per 4 nits sense esmorzar: 50€ * 4 = 200€.\n",
    "* Reserva d'una habitació amb vistes al mar per 6 nits amb esmorzar per a 2 persones: [(70€ * 6) - 10%] + (10€ * 6 * 2) = 444€.\n",
    "* Si et cal, fes altres funcions de suport per a calcula_reserva. Sigues organitzat/da!\n",
    "\n",
    "Exemples per comprovar:\n",
    "* Habitació estàndard, 4 nits, 2 persones amb esmorzar: 280€\n",
    "* Suite amb jacuzzi, 5 nits, 2 persones amb esmorzar (gratuït per la promoció): 640€\n",
    "* Habitació amb vistes, 6 nits, 1 persona sense esmorzar: 438€"
   ]
  }
 ],
 "metadata": {
  "language_info": {
   "name": "python"
  }
 },
 "nbformat": 4,
 "nbformat_minor": 2
}
