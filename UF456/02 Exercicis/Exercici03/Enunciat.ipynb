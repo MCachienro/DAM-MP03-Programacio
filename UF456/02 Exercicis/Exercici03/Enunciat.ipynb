{
 "cells": [
  {
   "cell_type": "markdown",
   "metadata": {},
   "source": [
    "<div style=\"display: flex; width: 100%;\">\n",
    "    <div style=\"flex: 1; padding: 0px;\">\n",
    "        <p>© Albert Palacios Jiménez, 2023</p>\n",
    "    </div>\n",
    "    <div style=\"flex: 1; padding: 0px; text-align: right;\">\n",
    "        <img src=\"../../assets/ieti.png\" height=\"32\" alt=\"Logo de IETI\" style=\"max-height: 32px;\">\n",
    "    </div>\n",
    "</div>\n",
    "<hr/>"
   ]
  },
  {
   "cell_type": "markdown",
   "metadata": {},
   "source": []
  },
  {
   "cell_type": "markdown",
   "metadata": {},
   "source": [
    "### Exercici 3\n",
    "\n",
    "Fes un programa que guardi:\n",
    "\n",
    "* A la variable 'subjecte', el resultat de preguntar: \"Digues un animal: \"\n",
    "* A la variable 'verb', el resultat de preguntar: \"Digues què fa l'animal: \"\n",
    "* A la variable 'objecte', el resultat de preguntar: \"Digues un objecte: \"\n",
    "\n",
    "Finalment es mostren els continguts de subjecte, verb i objecte separats per una \", \""
   ]
  }
 ],
 "metadata": {
  "language_info": {
   "name": "python"
  }
 },
 "nbformat": 4,
 "nbformat_minor": 2
}
