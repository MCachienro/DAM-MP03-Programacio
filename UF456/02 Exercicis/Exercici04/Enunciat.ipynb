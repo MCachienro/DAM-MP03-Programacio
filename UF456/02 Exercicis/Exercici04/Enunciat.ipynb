{
 "cells": [
  {
   "cell_type": "markdown",
   "metadata": {},
   "source": [
    "<div style=\"display: flex; width: 100%;\">\n",
    "    <div style=\"flex: 1; padding: 0px;\">\n",
    "        <p>© Albert Palacios Jiménez, 2023</p>\n",
    "    </div>\n",
    "    <div style=\"flex: 1; padding: 0px; text-align: right;\">\n",
    "        <img src=\"../../assets/ieti.png\" height=\"32\" alt=\"Logo de IETI\" style=\"max-height: 32px;\">\n",
    "    </div>\n",
    "</div>\n",
    "<hr/>"
   ]
  },
  {
   "cell_type": "markdown",
   "metadata": {},
   "source": [
    "### Exercici 4\n",
    "\n",
    "Fes un programa que converteixi la temperatura de Celsius a Fahrenheit.\n",
    "\n",
    "Primer ha de demanar a l'usuari: \"En graus Celsius, quina temperatura fa?\"\n",
    "\n",
    "Després ha de fer el càlcul: fahrenheit = (graus * 1.8) + 32\n",
    "\n",
    "Finalment ha de mostrar el resultat: \"X graus Celsius són Y graus Fahrenheit\"\n",
    "\n",
    "On X són els graus introduits i Y són els graus resultants del càlcul."
   ]
  }
 ],
 "metadata": {
  "language_info": {
   "name": "python"
  }
 },
 "nbformat": 4,
 "nbformat_minor": 2
}
