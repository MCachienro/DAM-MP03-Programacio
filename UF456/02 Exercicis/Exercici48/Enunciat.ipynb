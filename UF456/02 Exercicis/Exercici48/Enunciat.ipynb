{
 "cells": [
  {
   "cell_type": "markdown",
   "metadata": {},
   "source": [
    "<div style=\"display: flex; width: 100%;\">\n",
    "    <div style=\"flex: 1; padding: 0px;\">\n",
    "        <p>© Albert Palacios Jiménez, 2023</p>\n",
    "    </div>\n",
    "    <div style=\"flex: 1; padding: 0px; text-align: right;\">\n",
    "        <img src=\"../../assets/ieti.png\" height=\"32\" alt=\"Logo de IETI\" style=\"max-height: 32px;\">\n",
    "    </div>\n",
    "</div>\n",
    "<hr/>"
   ]
  },
  {
   "cell_type": "markdown",
   "metadata": {},
   "source": [
    "### Exercici 48\n",
    "\n",
    "Fes un programa que demani a l'usuari el seu nom, i fent ús d'un bucle 'for' escrigui cada lletra en una línia diferent perquè quedi en format vertical.\n",
    "\n",
    "Exemple:\n",
    "```python\n",
    "Escriu el teu nom: Tom\n",
    "T\n",
    "o\n",
    "m\n",
    "```\n",
    "\n",
    "**Nota**: Per obtenir un caràcter d'una cadena de text, pots fer servir [X], on X és la posició que vols obtenir."
   ]
  }
 ],
 "metadata": {
  "language_info": {
   "name": "python"
  }
 },
 "nbformat": 4,
 "nbformat_minor": 2
}
