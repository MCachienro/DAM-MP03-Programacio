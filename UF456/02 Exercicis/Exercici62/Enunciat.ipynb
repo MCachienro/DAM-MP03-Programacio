{
 "cells": [
  {
   "cell_type": "markdown",
   "metadata": {},
   "source": [
    "<div style=\"display: flex; width: 100%;\">\n",
    "    <div style=\"flex: 1; padding: 0px;\">\n",
    "        <p>© Albert Palacios Jiménez, 2023</p>\n",
    "    </div>\n",
    "    <div style=\"flex: 1; padding: 0px; text-align: right;\">\n",
    "        <img src=\"../../assets/ieti.png\" height=\"32\" alt=\"Logo de IETI\" style=\"max-height: 32px;\">\n",
    "    </div>\n",
    "</div>\n",
    "<hr/>"
   ]
  },
  {
   "cell_type": "markdown",
   "metadata": {},
   "source": [
    "### Exercici 62\n",
    "\n",
    "Fes una funció (escriu_llista), que rebi una llista i escrigui a cada línia:\n",
    "\n",
    "L'element a la posició X de la llista és 'Y'\n",
    "\n",
    "Prova-la amb ArrayLists:\n",
    "\n",
    "* ArrayList<String> partsDelDia = new ArrayList<>(Arrays.asList(\"Matí\", \"Tarda\", \"Vespre\", \"Nit\"));\n",
    "* ArrayList<String> diesDeLaSetmana = new ArrayList<>(Arrays.asList(\"Dilluns\", \"Dimarts\", \"Dimecres\", \"Dijous\", \"Divendres\", \"Dissabte\", \"Diumenge\"));\n",
    "* ArrayList<String> mesosDeLAny = new ArrayList<>(Arrays.asList(\"Gener\", \"Febrer\", \"Març\", \"Abril\", \"Maig\", \"Juny\", \"Juliol\", \"Agost\", \"Setembre\", \"Octubre\", \"Novembre\", \"Desembre\"));\n",
    "\n"
   ]
  }
 ],
 "metadata": {
  "language_info": {
   "name": "python"
  }
 },
 "nbformat": 4,
 "nbformat_minor": 2
}
