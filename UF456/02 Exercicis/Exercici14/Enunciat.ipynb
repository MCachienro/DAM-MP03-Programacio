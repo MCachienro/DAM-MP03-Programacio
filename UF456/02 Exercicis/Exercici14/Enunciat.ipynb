{
 "cells": [
  {
   "cell_type": "markdown",
   "metadata": {},
   "source": [
    "<div style=\"display: flex; width: 100%;\">\n",
    "    <div style=\"flex: 1; padding: 0px;\">\n",
    "        <p>© Albert Palacios Jiménez, 2023</p>\n",
    "    </div>\n",
    "    <div style=\"flex: 1; padding: 0px; text-align: right;\">\n",
    "        <img src=\"../../assets/ieti.png\" height=\"32\" alt=\"Logo de IETI\" style=\"max-height: 32px;\">\n",
    "    </div>\n",
    "</div>\n",
    "<hr/>"
   ]
  },
  {
   "cell_type": "markdown",
   "metadata": {},
   "source": [
    "### Exercici 14\n",
    "\n",
    "Fes un programa amb dues funcions:\n",
    "\n",
    "* transformar_km_a_milles, amb la operació (kilòmetres * 0.62)\n",
    "\n",
    "* transformar_milles_a_km, amb la operació (milles / 0.62)\n",
    "\n",
    "El programa haurà de demanar a l'usuari: \"Entra una distància en kilòmetres: \"\n",
    "\n",
    "Després haurà de mostrar: \"La distància de X kilòmetres en milles és Y\" on X són els kilòmetres originals i Y les milles resultants\n",
    "\n",
    "Després haurà de tornar a calcular els kilòmetres a partir del resultat anterior\n",
    "\n",
    "Finalment, escriurà: \"El resultat de tornar a calcular els kilòmetres és: Z\" on Z és el resultat del càlcul anterior \n",
    "\n",
    "**Important:** Per millorar la lectura dels resultats, limita els prints a 3 decimals sense perdre informació"
   ]
  }
 ],
 "metadata": {
  "language_info": {
   "name": "python"
  }
 },
 "nbformat": 4,
 "nbformat_minor": 2
}
