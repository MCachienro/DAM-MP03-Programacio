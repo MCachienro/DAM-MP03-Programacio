{
 "cells": [
  {
   "cell_type": "markdown",
   "metadata": {},
   "source": [
    "<div style=\"display: flex; width: 100%;\">\n",
    "    <div style=\"flex: 1; padding: 0px;\">\n",
    "        <p>© Albert Palacios Jiménez, 2023</p>\n",
    "    </div>\n",
    "    <div style=\"flex: 1; padding: 0px; text-align: right;\">\n",
    "        <img src=\"../../assets/ieti.png\" height=\"32\" alt=\"Logo de IETI\" style=\"max-height: 32px;\">\n",
    "    </div>\n",
    "</div>\n",
    "<hr/>"
   ]
  },
  {
   "cell_type": "markdown",
   "metadata": {},
   "source": [
    "### Exercici 17\n",
    "\n",
    "Un palíndrom és una frase que, es llegeix igual del dret que del revés (Tota en minúscula, i si no tens en compte els espais o caràcters especials)\n",
    "\n",
    "Per exemple:\n",
    "```text\n",
    "Anul·la la lluna\n",
    "Atrapa'l o l'aparta\n",
    "No sap pas on\n",
    "Tramaran anar a Mart\n",
    "Un pop nu\n",
    "```\n",
    "Fes una funció anomenada \"es_palindrom\" que accepta un text d'entrada i retorna \"True\" o \"False\" segons si la frase és un palíndrom.\n",
    "\n",
    "Per avaluar si és un palíndrom:\n",
    "* Treu tots els espais en blanc de la frase, fes-ho amb replace\n",
    "* Treu també els caràcters: · i '\n",
    "* Passa la frase a minúsules\n",
    "* Compara si el resultat anterior és igual al seu invertit (amb [::-1])\n",
    "\n",
    "S'ha de mostrar per pantalla: \n",
    "```text\n",
    "        \"És la frase 'X' un palindrom? Y\"\n",
    "        On X és la frase d'entrada i Y és \"True\" o \"False\"\n",
    "```\n",
    "Validar els anagrames d'exemple anteriors, i un parell de textos que no són anagrames"
   ]
  }
 ],
 "metadata": {
  "language_info": {
   "name": "python"
  }
 },
 "nbformat": 4,
 "nbformat_minor": 2
}
