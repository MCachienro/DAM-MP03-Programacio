{
 "cells": [
  {
   "cell_type": "markdown",
   "metadata": {},
   "source": [
    "<div style=\"display: flex; width: 100%;\">\n",
    "    <div style=\"flex: 1; padding: 0px;\">\n",
    "        <p>© Albert Palacios Jiménez, 2023</p>\n",
    "    </div>\n",
    "    <div style=\"flex: 1; padding: 0px; text-align: right;\">\n",
    "        <img src=\"../../assets/ieti.png\" height=\"32\" alt=\"Logo de IETI\" style=\"max-height: 32px;\">\n",
    "    </div>\n",
    "</div>\n",
    "<hr/>"
   ]
  },
  {
   "cell_type": "markdown",
   "metadata": {},
   "source": [
    "### Exercici 20\n",
    "\n",
    "Fes una funció 'calculaOperacio' que a partir de dos números i una operació (suma, resta, multiplicació i divisió), retorna el resultat.\n",
    "\n",
    "Per exemple: \n",
    "\n",
    "calculaOperacio(2, 3, \"suma\") ha de retornar 5\n",
    "\n",
    "calculaOperacio(3, 4, \"multiplicació\") ha de retornar 12"
   ]
  }
 ],
 "metadata": {
  "language_info": {
   "name": "python"
  }
 },
 "nbformat": 4,
 "nbformat_minor": 2
}
