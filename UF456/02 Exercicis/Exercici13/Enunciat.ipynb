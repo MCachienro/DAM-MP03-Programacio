{
 "cells": [
  {
   "cell_type": "markdown",
   "metadata": {},
   "source": [
    "<div style=\"display: flex; width: 100%;\">\n",
    "    <div style=\"flex: 1; padding: 0px;\">\n",
    "        <p>© Albert Palacios Jiménez, 2023</p>\n",
    "    </div>\n",
    "    <div style=\"flex: 1; padding: 0px; text-align: right;\">\n",
    "        <img src=\"../../assets/ieti.png\" height=\"32\" alt=\"Logo de IETI\" style=\"max-height: 32px;\">\n",
    "    </div>\n",
    "</div>\n",
    "<hr/>"
   ]
  },
  {
   "cell_type": "markdown",
   "metadata": {},
   "source": [
    "### Exercici 13\n",
    "\n",
    "Fes un programa JAVA amb la funció 'informacio_llibre'. \n",
    "\n",
    "Aquesta funció acceptarà 3 paràmetres:\n",
    "```text\n",
    "        titol, autor, any\n",
    "```\n",
    "Aleshores mostrarà la informació així:\n",
    "```text\n",
    "        Títol: El Gran Gatsby, Autor: F. Scott Fitzgerald, Any: 1925\n",
    "```\n",
    "Fes que automàticament mostri la informació de 3 llibres"
   ]
  }
 ],
 "metadata": {
  "language_info": {
   "name": "python"
  }
 },
 "nbformat": 4,
 "nbformat_minor": 2
}
