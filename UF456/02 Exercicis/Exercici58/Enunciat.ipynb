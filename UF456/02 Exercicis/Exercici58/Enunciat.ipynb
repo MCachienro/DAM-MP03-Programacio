{
 "cells": [
  {
   "cell_type": "markdown",
   "metadata": {},
   "source": [
    "<div style=\"display: flex; width: 100%;\">\n",
    "    <div style=\"flex: 1; padding: 0px;\">\n",
    "        <p>© Albert Palacios Jiménez, 2023</p>\n",
    "    </div>\n",
    "    <div style=\"flex: 1; padding: 0px; text-align: right;\">\n",
    "        <img src=\"../../assets/ieti.png\" height=\"32\" alt=\"Logo de IETI\" style=\"max-height: 32px;\">\n",
    "    </div>\n",
    "</div>\n",
    "<hr/>"
   ]
  },
  {
   "cell_type": "markdown",
   "metadata": {},
   "source": [
    "### Exerici 58\n",
    "\n",
    "Fes un programa que a partir de dos bucles anidats (un bucle dins d'un altre), mostri la següent taula:\n",
    "\n",
    "```text\n",
    "x,y\n",
    "0,0 1,0 2,0 3,0 4,0 5,0\n",
    "0,1 1,1 2,1 3,1 4,1 5,1\n",
    "0,2 1,2 2,2 3,2 4,2 5,2\n",
    "0,3 1,3 2,3 3,3 4,3 5,3\n",
    "0,4 1,4 2,4 3,4 4,4 5,4\n",
    "0,5 1,5 2,5 3,5 4,5 5,5\n",
    "\n",
    "```"
   ]
  }
 ],
 "metadata": {
  "language_info": {
   "name": "python"
  }
 },
 "nbformat": 4,
 "nbformat_minor": 2
}
