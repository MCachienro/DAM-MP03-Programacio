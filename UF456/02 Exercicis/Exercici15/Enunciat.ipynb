{
 "cells": [
  {
   "cell_type": "markdown",
   "metadata": {},
   "source": [
    "<div style=\"display: flex; width: 100%;\">\n",
    "    <div style=\"flex: 1; padding: 0px;\">\n",
    "        <p>© Albert Palacios Jiménez, 2023</p>\n",
    "    </div>\n",
    "    <div style=\"flex: 1; padding: 0px; text-align: right;\">\n",
    "        <img src=\"../../assets/ieti.png\" height=\"32\" alt=\"Logo de IETI\" style=\"max-height: 32px;\">\n",
    "    </div>\n",
    "</div>\n",
    "<hr/>"
   ]
  },
  {
   "cell_type": "markdown",
   "metadata": {},
   "source": [
    "### Exercici 15\n",
    "\n",
    "Fes un programa amb dues funcions: \n",
    "\n",
    "* 'operacions_aritmetiques': que accepta dos paràmetres: 'a' i 'b' i retorna el resultat de les operacions: suma, resta, multiplicació i divisió\n",
    "\n",
    "* 'mostrar_resultats': que accepta 6 paràmetres: 'a', 'b', 'suma', 'resta', 'multiplicacio' i 'divisio' i mostra els resultats amb el format:\n",
    "```python\n",
    "        a + b = suma, a - b = resta, a * b = multiplicacio, a / b = divisio\n",
    "```\n",
    "On a i b són els valors originals i suma, resta, multiplicacio, divisio són els altres paràmetres rebuts\n",
    "\n",
    "És a dir, la funció 'mostrar_resultats' si a = 2 i b = 4, ha de fer un print de:\n",
    "```python\n",
    "        4 + 2 = 6, 4 - 2 = 2, 4 * 2 = 8, 4 / 2 = 2     \n",
    "```\n",
    "**Nota**: Tingues en compte que les operacions es fan a la funció 'operacions_aritmetiques' i que la funció 'mostrar_resultats' només mostra informació"
   ]
  }
 ],
 "metadata": {
  "language_info": {
   "name": "python"
  }
 },
 "nbformat": 4,
 "nbformat_minor": 2
}
