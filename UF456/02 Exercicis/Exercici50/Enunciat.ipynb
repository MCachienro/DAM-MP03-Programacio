{
 "cells": [
  {
   "cell_type": "markdown",
   "metadata": {},
   "source": [
    "<div style=\"display: flex; width: 100%;\">\n",
    "    <div style=\"flex: 1; padding: 0px;\">\n",
    "        <p>© Albert Palacios Jiménez, 2023</p>\n",
    "    </div>\n",
    "    <div style=\"flex: 1; padding: 0px; text-align: right;\">\n",
    "        <img src=\"../../assets/ieti.png\" height=\"32\" alt=\"Logo de IETI\" style=\"max-height: 32px;\">\n",
    "    </div>\n",
    "</div>\n",
    "<hr/>"
   ]
  },
  {
   "cell_type": "markdown",
   "metadata": {},
   "source": [
    "### Exerici 50\n",
    "\n",
    "Fes un programa que demani a l'usuari una direcció de correu electrònic i validi que:\n",
    "\n",
    "- Conté un símbol @\n",
    "- Conté un punt\n",
    "- El símbol @ no està al principi\n",
    "- El símbol @ no està al final\n",
    "- El punt no està al principi\n",
    "- El punt no està al final\n",
    "- El símbol @ i el punt no estan junts\n",
    "\n",
    "El programa tornarà a demanar el correu electrònic, fins que se n'escrigui un de vàlid.\n"
   ]
  }
 ],
 "metadata": {
  "language_info": {
   "name": "python"
  }
 },
 "nbformat": 4,
 "nbformat_minor": 2
}
