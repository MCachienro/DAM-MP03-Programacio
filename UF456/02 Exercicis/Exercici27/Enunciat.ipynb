{
 "cells": [
  {
   "cell_type": "markdown",
   "metadata": {},
   "source": [
    "<div style=\"display: flex; width: 100%;\">\n",
    "    <div style=\"flex: 1; padding: 0px;\">\n",
    "        <p>© Albert Palacios Jiménez, 2023</p>\n",
    "    </div>\n",
    "    <div style=\"flex: 1; padding: 0px; text-align: right;\">\n",
    "        <img src=\"../../assets/ieti.png\" height=\"32\" alt=\"Logo de IETI\" style=\"max-height: 32px;\">\n",
    "    </div>\n",
    "</div>\n",
    "<hr/>"
   ]
  },
  {
   "cell_type": "markdown",
   "metadata": {},
   "source": [
    "### Exercici 27\n",
    "\n",
    "Fes una funció (valida_targeta) que a partir d'un any, determina si la targeta és vigent o ha caducat.\n",
    "\n",
    "Aleshores fes un programa que demani un any a l'usuari, el transformi a número i cridi a la funció 'valida_targeta' per saber si la targeta és vigent o ha caducat.\n",
    "\n",
    "Per exemple:\n",
    "\n",
    "* Introdueix l'any de vigència de la targeta: 2022 => La targeta ha caducat.\n",
    "* Introdueix l'any de vigència de la targeta: 'any_actual' => La targeta és vigent.\n",
    "* Introdueix l'any de vigència de la targeta: 2085 => La targeta és vigent.\n",
    "\n",
    "\n",
    "Mireu com obtenir les dates amb JAVA a Google\n",
    "```text\n",
    "any_actual = ???\n",
    "```\n",
    "Valida la funció amb els anys 2020, 2021 i 2023, 2025.\n"
   ]
  }
 ],
 "metadata": {
  "language_info": {
   "name": "python"
  }
 },
 "nbformat": 4,
 "nbformat_minor": 2
}
