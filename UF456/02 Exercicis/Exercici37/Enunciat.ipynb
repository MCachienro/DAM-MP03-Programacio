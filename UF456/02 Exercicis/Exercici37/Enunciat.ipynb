{
 "cells": [
  {
   "cell_type": "markdown",
   "metadata": {},
   "source": [
    "<div style=\"display: flex; width: 100%;\">\n",
    "    <div style=\"flex: 1; padding: 0px;\">\n",
    "        <p>© Albert Palacios Jiménez, 2023</p>\n",
    "    </div>\n",
    "    <div style=\"flex: 1; padding: 0px; text-align: right;\">\n",
    "        <img src=\"../../assets/ieti.png\" height=\"32\" alt=\"Logo de IETI\" style=\"max-height: 32px;\">\n",
    "    </div>\n",
    "</div>\n",
    "<hr/>"
   ]
  },
  {
   "cell_type": "markdown",
   "metadata": {},
   "source": [
    "### Exercici 37\n",
    "\n",
    "Fes un programa que demani un número entre 0 i 10 a l'usuari.\n",
    "\n",
    "El programa comprova si el número està entre 0 i 10.\n",
    "\n",
    "Gràcies a un bucle 'while' podràs fer que aquesta pregunta es repeteixi, mentre l'usuari no entri un número vàlid\n",
    "\n",
    "Exemple d'execució:\n",
    "```text\n",
    "Escriu un número entre 0 i 10: 11\n",
    "El número 11 és incorrecte. Torna-ho a provar.\n",
    "Escriu un número entre 0 i 10: 15\n",
    "El número 15 és incorrecte. Torna-ho a provar.\n",
    "Escriu un número entre 0 i 10: 5\n",
    "El número 5 és correcte. Gràcies.\n",
    "```"
   ]
  }
 ],
 "metadata": {
  "language_info": {
   "name": "python"
  }
 },
 "nbformat": 4,
 "nbformat_minor": 2
}
