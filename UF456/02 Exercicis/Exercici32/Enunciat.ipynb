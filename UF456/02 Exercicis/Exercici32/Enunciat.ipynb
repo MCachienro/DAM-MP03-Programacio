{
 "cells": [
  {
   "cell_type": "markdown",
   "metadata": {},
   "source": [
    "<div style=\"display: flex; width: 100%;\">\n",
    "    <div style=\"flex: 1; padding: 0px;\">\n",
    "        <p>© Albert Palacios Jiménez, 2023</p>\n",
    "    </div>\n",
    "    <div style=\"flex: 1; padding: 0px; text-align: right;\">\n",
    "        <img src=\"../../assets/ieti.png\" height=\"32\" alt=\"Logo de IETI\" style=\"max-height: 32px;\">\n",
    "    </div>\n",
    "</div>\n",
    "<hr/>"
   ]
  },
  {
   "cell_type": "markdown",
   "metadata": {},
   "source": [
    "### Exercici 32\n",
    "\n",
    "Escriu una funció (calcula_consum) que determini la factura d'aigua d'un client segons el nombre de litres que ha consumit durant un mes.\n",
    "\n",
    "Els costos són:\n",
    "```text\n",
    "Cost fix mensual: 10€ (inclou els primers 1.000 litres)\n",
    "Fins a 5.000 litres (inclòs): 0,02€ per litre addicional.\n",
    "Fins a 10.000 litres (inclòs): 0,03€ per litre addicional.\n",
    "Més de 10.000 litres: 0,05€ per litre addicional.\n",
    "```\n",
    "Per exemple:\n",
    "* Si un client ha consumit 800 litres, hauria de pagar només el cost fix de 10€.\n",
    "* Si un client ha consumit 6.000 litres: \n",
    "```text\n",
    "    10€ : Cost fix (1.000 litres)\n",
    "+   80€ : 0,02€ per 4.000 litres\n",
    "    30€ : 0,03€ per 1.000 litres\n",
    "-------            ------\n",
    "   120€ : Total     6.000 litres\n",
    "```\n",
    "* Si et cal, fes altres funcions de suport per a calcula_consum. Sigues organitzat/da!\n",
    "\n",
    "Exemples per comprovar:\n",
    "```text\n",
    "* 800 litres => 10€\n",
    "* 6.000 litres => 120€\n",
    "* 9.000 litres => 210€\n",
    "* 12.000 litres => 340€\n",
    "```"
   ]
  }
 ],
 "metadata": {
  "language_info": {
   "name": "python"
  }
 },
 "nbformat": 4,
 "nbformat_minor": 2
}
