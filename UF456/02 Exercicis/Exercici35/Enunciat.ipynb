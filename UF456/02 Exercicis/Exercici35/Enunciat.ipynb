{
 "cells": [
  {
   "cell_type": "markdown",
   "metadata": {},
   "source": [
    "<div style=\"display: flex; width: 100%;\">\n",
    "    <div style=\"flex: 1; padding: 0px;\">\n",
    "        <p>© Albert Palacios Jiménez, 2023</p>\n",
    "    </div>\n",
    "    <div style=\"flex: 1; padding: 0px; text-align: right;\">\n",
    "        <img src=\"../../assets/ieti.png\" height=\"32\" alt=\"Logo de IETI\" style=\"max-height: 32px;\">\n",
    "    </div>\n",
    "</div>\n",
    "<hr/>"
   ]
  },
  {
   "cell_type": "markdown",
   "metadata": {},
   "source": [
    "### Exercici 35\n",
    "\n",
    "Estàs organitzant festes d'aniversari i oferixes diferents paquets segons les necessitats del client. \n",
    "\n",
    "Necessites una funció (calcula_festa) que determini el cost total d'una festa segons el nombre de convidats, el lloc on es realitzarà la festa, si es vol menjar inclòs i si volen entreteniment en directe.\n",
    "\n",
    "Les tarifes són:\n",
    "\n",
    "Lloc:\n",
    "```text\n",
    "Sala estàndard: 100€.\n",
    "Jardí amb piscina: 200€.\n",
    "Saló gran amb escenari: 500€.\n",
    "Menjar per convidat:\n",
    "\n",
    "Menú bàsic: 15€.\n",
    "Menú premium: 30€.\n",
    "Entreteniment:\n",
    "\n",
    "Màgia: 250€.\n",
    "Música en directe: 500€.\n",
    "```\n",
    "\n",
    "La funció hauria d'acceptar els següents paràmetres: \n",
    "```text\n",
    "* tipus de lloc\n",
    "* nombre de convidats\n",
    "* tipus de menjar\n",
    "* tipus d'entreteniment\n",
    "```\n",
    "\n",
    "A més, ofereixes les següents promocions:\n",
    "```text\n",
    "Si contracten música en directe per la sala gran amb escenari, tenen un descompte de 100€ en l'entreteniment.\n",
    "Si més de 50 persones assisteixen a la festa, ofereixes un 5% de descompte en el menjar.\n",
    "```\n",
    "\n",
    "Només es pot contractar una sala, però es pot contractar diversos entreteniments.\n",
    "\n",
    "Et pot anar bé definir primer les següents funcions:\n",
    "* calcula_cost_lloc(tipus_lloc)\n",
    "* calcula_cost_menjar(tipus_menjar, num_convidats)\n",
    "* calcula_cost_entreteniment(tipus_entreteniment)\n",
    "\n",
    "Per exemple:\n",
    "* Sala estàndard, 20 convidats amb menú bàsic, sense entreteniment: 100€ + (15€ * 20) = 400€.\n",
    "* Jardí amb piscina, 60 convidats amb menú premium, màgia com a entreteniment: 200€ + [(30€ * 60) - 5%] + 250€ = 2.150€.\n",
    "* Si et cal, crea funcions auxiliars per a calcula_festa. Sigues organitzat/da!\n",
    "\n",
    "Exemples per comprovar:\n",
    "* Jardí amb piscina, 40 convidats, menú bàsic, música en directe: 1.300€\n",
    "* Saló gran amb escenari, 70 convidats, menú premium, música en directe (amb descompte): 2.895€\n",
    "* Sala estàndard, 15 convidats, menú premium, màgia: 800€"
   ]
  }
 ],
 "metadata": {
  "language_info": {
   "name": "python"
  }
 },
 "nbformat": 4,
 "nbformat_minor": 2
}
