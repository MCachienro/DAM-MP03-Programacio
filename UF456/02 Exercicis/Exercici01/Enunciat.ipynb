{
 "cells": [
  {
   "cell_type": "markdown",
   "metadata": {},
   "source": [
    "<div style=\"display: flex; width: 100%;\">\n",
    "    <div style=\"flex: 1; padding: 0px;\">\n",
    "        <p>© Albert Palacios Jiménez, 2023</p>\n",
    "    </div>\n",
    "    <div style=\"flex: 1; padding: 0px; text-align: right;\">\n",
    "        <img src=\"../../assets/ieti.png\" height=\"32\" alt=\"Logo de IETI\" style=\"max-height: 32px;\">\n",
    "    </div>\n",
    "</div>\n",
    "<hr/>"
   ]
  },
  {
   "cell_type": "markdown",
   "metadata": {},
   "source": [
    "### Exercici 1\n",
    "\n",
    "Fes un programa que demani \"Quina edat tens?\" (amb un input), i calculi l'edat que tindríes si fós un gos.\n",
    "\n",
    "Per calcular l'edat de 'gos', multiplica l'edat humana per 7\n",
    "\n",
    "Com a sortida mostra: \"Si fossis un gos, tindries X anys\", on X és el resultat del càlcul anterior"
   ]
  }
 ],
 "metadata": {
  "language_info": {
   "name": "python"
  }
 },
 "nbformat": 4,
 "nbformat_minor": 2
}
