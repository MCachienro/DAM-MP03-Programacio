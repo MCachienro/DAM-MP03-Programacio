{
 "cells": [
  {
   "cell_type": "markdown",
   "metadata": {},
   "source": [
    "<div style=\"display: flex; width: 100%;\">\n",
    "    <div style=\"flex: 1; padding: 0px;\">\n",
    "        <p>© Albert Palacios Jiménez, 2023</p>\n",
    "    </div>\n",
    "    <div style=\"flex: 1; padding: 0px; text-align: right;\">\n",
    "        <img src=\"../../assets/ieti.png\" height=\"32\" alt=\"Logo de IETI\" style=\"max-height: 32px;\">\n",
    "    </div>\n",
    "</div>\n",
    "<hr/>"
   ]
  },
  {
   "cell_type": "markdown",
   "metadata": {},
   "source": [
    "### Exercici 59\n",
    "\n",
    "Fes un programa que mostri el següent menú:\n",
    "```text\n",
    "    CALCULADORA\n",
    "    Menú Principal\n",
    "\n",
    "    1 - Sumar\n",
    "    2 - Restar\n",
    "    3 - Multiplicar\n",
    "    4 - Dividir\n",
    "    0 - Sortir\n",
    "    Opció: \n",
    "```\n",
    "L'usuari escriu el número d'opció, si s'escull una opció no coneguda \n",
    "es mostra el menú de nou amb el text \"Opció incorrecta\" a sobre de la línia \"Opció: \"\n",
    "\n",
    "Un cop escollida una\n",
    "\n",
    "* Si és la 0 s'acaba el programa.\n",
    "* Si és una altra, demana dos números i mostra el resultat de l'operació."
   ]
  }
 ],
 "metadata": {
  "language_info": {
   "name": "python"
  }
 },
 "nbformat": 4,
 "nbformat_minor": 2
}
