{
 "cells": [
  {
   "cell_type": "markdown",
   "metadata": {},
   "source": [
    "<div style=\"display: flex; width: 100%;\">\n",
    "    <div style=\"flex: 1; padding: 0px;\">\n",
    "        <p>© Albert Palacios Jiménez, 2023</p>\n",
    "    </div>\n",
    "    <div style=\"flex: 1; padding: 0px; text-align: right;\">\n",
    "        <img src=\"../../assets/ieti.png\" height=\"32\" alt=\"Logo de IETI\" style=\"max-height: 32px;\">\n",
    "    </div>\n",
    "</div>\n",
    "<hr/>"
   ]
  },
  {
   "cell_type": "markdown",
   "metadata": {},
   "source": [
    "### Exercici 67\n",
    "\n",
    "Defineix una funció (separa_vocals) que a partir d'una llista de paraules, retorna dues array lists:\n",
    "\n",
    "* La primera conté totes les paraules que comencen per vocal\n",
    "* La segona conté totes les paraules que comencen per consonant\n",
    "\n",
    "Després defineix la funció (vocals_al_final) que a partir de una llista de paraules, retorna una llista on les paraules que començen per vocal estàn al final de la llista\n",
    "\n",
    "L'entrada ha de ser un **input** de l'usuari.\n",
    "\n",
    "Prova-ho amb:\n",
    "\n",
    "* \"Hola, ara mateix estem aprenent Java\" > [\"Hola,\", \"mateix\", \"JAVA\", \"ara\", \"estem\", \"aprenent\"]\n",
    "* \"Demà és festa i anem a la platja\" > [\"Demà\", \"festa\", \"la\", \"platja\", \"és\", \"i\", \"anem\", \"a\"]"
   ]
  }
 ],
 "metadata": {
  "language_info": {
   "name": "python"
  }
 },
 "nbformat": 4,
 "nbformat_minor": 2
}
