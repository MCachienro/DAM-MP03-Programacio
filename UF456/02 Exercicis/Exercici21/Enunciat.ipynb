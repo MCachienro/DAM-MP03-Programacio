{
 "cells": [
  {
   "cell_type": "markdown",
   "metadata": {},
   "source": [
    "<div style=\"display: flex; width: 100%;\">\n",
    "    <div style=\"flex: 1; padding: 0px;\">\n",
    "        <p>© Albert Palacios Jiménez, 2023</p>\n",
    "    </div>\n",
    "    <div style=\"flex: 1; padding: 0px; text-align: right;\">\n",
    "        <img src=\"../../assets/ieti.png\" height=\"32\" alt=\"Logo de IETI\" style=\"max-height: 32px;\">\n",
    "    </div>\n",
    "</div>\n",
    "<hr/>"
   ]
  },
  {
   "cell_type": "markdown",
   "metadata": {},
   "source": [
    "### Exercici 21\n",
    "\n",
    "Demana a l'usuari que escrigui una contrasenya.\n",
    "\n",
    "Crea la funció 'validaContrasenya' que apartir d'un text de contrasenya dirà que és vàlida si:\n",
    "\n",
    "- La contrasenya té almenys 8 caràcters\n",
    "\n",
    "- La contrasenya té almenys 2 lletres majúscules i 2 lletres minúscules\n",
    "\n",
    "La resposta de la funció serà el text:\n",
    "\n",
    "- \"La contrasenya és vàlida\" si és vàlida\n",
    "\n",
    "- \"La contrasenya NO és vàlida\" si no és vàlida\n",
    "\n",
    "Et caldrà una funció 'conta_majuscules' i una funció 'conta_minuscules', per fer aquestes funcions:\n",
    "```python\n",
    "    def conta_majuscules(text):\n",
    "        return len(list(filter(str.isupper, text)))\n",
    "```"
   ]
  }
 ],
 "metadata": {
  "language_info": {
   "name": "python"
  }
 },
 "nbformat": 4,
 "nbformat_minor": 2
}
