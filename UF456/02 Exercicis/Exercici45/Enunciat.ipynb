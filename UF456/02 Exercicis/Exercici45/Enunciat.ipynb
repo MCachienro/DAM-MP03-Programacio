{
 "cells": [
  {
   "cell_type": "markdown",
   "metadata": {},
   "source": [
    "<div style=\"display: flex; width: 100%;\">\n",
    "    <div style=\"flex: 1; padding: 0px;\">\n",
    "        <p>© Albert Palacios Jiménez, 2023</p>\n",
    "    </div>\n",
    "    <div style=\"flex: 1; padding: 0px; text-align: right;\">\n",
    "        <img src=\"../../assets/ieti.png\" height=\"32\" alt=\"Logo de IETI\" style=\"max-height: 32px;\">\n",
    "    </div>\n",
    "</div>\n",
    "<hr/>"
   ]
  },
  {
   "cell_type": "markdown",
   "metadata": {},
   "source": [
    "### Exercici 45\n",
    "\n",
    "Fes un programa que calculi el factorial d'un número.\n",
    "\n",
    "El factorial d'un número és el producte de tots els números des d'1 fins al número.\n",
    "\n",
    "Exemple:\n",
    "\n",
    "- 5! = 1 x 2 x 3 x 4 x 5 = 120\n",
    "\n",
    "- 10! = 1 x 2 x 3 x 4 x 5 x 6 x 7 x 8 x 9 x 10 = 3628800"
   ]
  }
 ],
 "metadata": {
  "language_info": {
   "name": "python"
  }
 },
 "nbformat": 4,
 "nbformat_minor": 2
}
