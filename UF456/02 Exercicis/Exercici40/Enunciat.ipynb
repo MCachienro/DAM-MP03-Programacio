{
 "cells": [
  {
   "cell_type": "markdown",
   "metadata": {},
   "source": [
    "<div style=\"display: flex; width: 100%;\">\n",
    "    <div style=\"flex: 1; padding: 0px;\">\n",
    "        <p>© Albert Palacios Jiménez, 2023</p>\n",
    "    </div>\n",
    "    <div style=\"flex: 1; padding: 0px; text-align: right;\">\n",
    "        <img src=\"../../assets/ieti.png\" height=\"32\" alt=\"Logo de IETI\" style=\"max-height: 32px;\">\n",
    "    </div>\n",
    "</div>\n",
    "<hr/>"
   ]
  },
  {
   "cell_type": "markdown",
   "metadata": {},
   "source": [
    "### Exercici 40\n",
    "\n",
    "Fes un programa que sumi els números dins d'un rang.\n",
    "\n",
    "Primer s'ha de demanar els números del rang.\n",
    "\n",
    "El dos números escrits, s'han d'ordenar de petit a gran.\n",
    "\n",
    "Per exemple:\n",
    "\n",
    "- Entre 2 i 5: 2 + 3 + 4 + 5 = 14\n",
    "\n",
    "- Entre 10 i 15: 10 + 11 + 12 + 13 + 14 + 15 = 75\n",
    "\n",
    "S'ha de retornar el resultat:\n",
    "\n",
    "- La suma entre 2 i 5 és 14 \n",
    "\n",
    "- La suma entre 10 i 15 és 75 "
   ]
  }
 ],
 "metadata": {
  "language_info": {
   "name": "python"
  }
 },
 "nbformat": 4,
 "nbformat_minor": 2
}
