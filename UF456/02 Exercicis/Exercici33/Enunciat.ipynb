{
 "cells": [
  {
   "cell_type": "markdown",
   "metadata": {},
   "source": [
    "<div style=\"display: flex; width: 100%;\">\n",
    "    <div style=\"flex: 1; padding: 0px;\">\n",
    "        <p>© Albert Palacios Jiménez, 2023</p>\n",
    "    </div>\n",
    "    <div style=\"flex: 1; padding: 0px; text-align: right;\">\n",
    "        <img src=\"../../assets/ieti.png\" height=\"32\" alt=\"Logo de IETI\" style=\"max-height: 32px;\">\n",
    "    </div>\n",
    "</div>\n",
    "<hr/>"
   ]
  },
  {
   "cell_type": "markdown",
   "metadata": {},
   "source": [
    "### Exercici 33\n",
    "\n",
    "Un cinema ofereix diferents tarifes segons l'edat del client i el dia de la setmana. \n",
    "\n",
    "Escriu una funció (calcula_entrada) que determini el preu de l'entrada d'una persona segons la seva edat i el dia que vol anar al cinema.\n",
    "\n",
    "Els preus són:\n",
    "```text\n",
    "Preu estàndard: 10€\n",
    "Nens (menors de 12 anys): 5€\n",
    "Gent gran (65 anys o més): 6€\n",
    "Dimarts (Dia del client): Totes les entrades tenen un descompte del 20%.\n",
    "Dijous (Dia familiar): Si un adult compra una entrada, l'entrada del primer nen té un 50% de descompte els altres nens no paguen.\n",
    "```\n",
    "\n",
    "Els paràmetres de la funció són: \n",
    "```text\n",
    "* Número d'adults\n",
    "* Número de nens\n",
    "* Número de persones grans\n",
    "* Dia\n",
    "```\n",
    "\n",
    "No feu inputs, feu servir la funció amb els valors d'exemple i un print per cada cas.\n",
    "\n",
    "Per exemple:\n",
    "* Un nen que va al cinema un dimarts: 5€ - 20% = 4€.\n",
    "* Un adult que va al cinema amb un nen un dijous: L'adult paga 10€ i el nen paga 2,50€ (50% de descompte sobre 5€).\n",
    "* Un adult que va al cinema amb tres nens un dijous: L'adult paga 10€, el primer nen paga 2,50€, els altres res.\n",
    "* Si et cal, fes altres funcions de suport per a calcula_entrada. Sigues organitzat/da!\n",
    "\n",
    "Exemples per comprovar:\n",
    "* Adult un dilluns: 10€\n",
    "* Nen un dimarts: 4€\n",
    "* Gent gran un dijous: 6€ (El descompte del dia familiar només s'aplica als nens)\n",
    "* Adult i nen un dijous: 10€ + 2,50€ = 12,50€"
   ]
  }
 ],
 "metadata": {
  "language_info": {
   "name": "python"
  }
 },
 "nbformat": 4,
 "nbformat_minor": 2
}
