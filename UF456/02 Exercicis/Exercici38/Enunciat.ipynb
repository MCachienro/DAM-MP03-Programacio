{
 "cells": [
  {
   "cell_type": "markdown",
   "metadata": {},
   "source": [
    "<div style=\"display: flex; width: 100%;\">\n",
    "    <div style=\"flex: 1; padding: 0px;\">\n",
    "        <p>© Albert Palacios Jiménez, 2023</p>\n",
    "    </div>\n",
    "    <div style=\"flex: 1; padding: 0px; text-align: right;\">\n",
    "        <img src=\"../../assets/ieti.png\" height=\"32\" alt=\"Logo de IETI\" style=\"max-height: 32px;\">\n",
    "    </div>\n",
    "</div>\n",
    "<hr/>"
   ]
  },
  {
   "cell_type": "markdown",
   "metadata": {},
   "source": [
    "### Exercici 38\n",
    "\n",
    "Fes un programa que fent ús d'un bucle 'while' mostri el següent menú:\n",
    "```text\n",
    "Menú:\n",
    "1. Saluda\n",
    "2. Parla\n",
    "3. Sortir\n",
    "```\n",
    "Aleshores:\n",
    "\n",
    "- Quan s'escull la opció 1 es mostra \"Hola!\"\n",
    "- Quan s'escull la opció 2 es mostra una de les següents frases a l'atzar:\n",
    "\n",
    "    * Tinc un gos que es diu Pelut\n",
    "    * M'agrada menjar xocolata\n",
    "    * Vull vitajar al Japó\n",
    "\n",
    "- Quan s'escull la opcio 3 el programa acaba"
   ]
  }
 ],
 "metadata": {
  "language_info": {
   "name": "python"
  }
 },
 "nbformat": 4,
 "nbformat_minor": 2
}
