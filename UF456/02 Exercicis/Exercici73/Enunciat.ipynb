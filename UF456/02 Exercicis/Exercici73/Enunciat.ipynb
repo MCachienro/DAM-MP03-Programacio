{
 "cells": [
  {
   "cell_type": "markdown",
   "metadata": {},
   "source": [
    "<div style=\"display: flex; width: 100%;\">\n",
    "    <div style=\"flex: 1; padding: 0px;\">\n",
    "        <p>© Albert Palacios Jiménez, 2023</p>\n",
    "    </div>\n",
    "    <div style=\"flex: 1; padding: 0px; text-align: right;\">\n",
    "        <img src=\"../../assets/ieti.png\" height=\"32\" alt=\"Logo de IETI\" style=\"max-height: 32px;\">\n",
    "    </div>\n",
    "</div>\n",
    "<hr/>"
   ]
  },
  {
   "cell_type": "markdown",
   "metadata": {},
   "source": [
    "### Exercici 73\n",
    "\n",
    "Fes una funció (escriu_taula) que rebi els següents paràmetres:\n",
    "\n",
    "* **dades** una taula de dades homogènies (tots els elements tenen igual longitud)\n",
    "* **columnes** amb tants elements com columnes tingui la taula de dades\n",
    "* **alineacions** amb la mateixa longitud que les columnes, format pels caràcters \"<, ^, >\"\n",
    "* **amplades** amb la mateixa longitud que les columnes indicant l'amplada en caràcters de cada una\n",
    "\n",
    "L'array ha de tornar una taula formatada correctament, el separador vertical és | i l'horitzontal -\n",
    "\n",
    "* Si la cadena de text és més ample que la columna, l'ha de retallar\n",
    "* Si alguna de les llistes no té la mateixa longitud que la resta, ha de retornar un missatge d'error.\n",
    "\n",
    "Per exemple:\n",
    "```java\n",
    "    Object[][] ciutats = {\n",
    "        {0, \"Barcelona\", 1620343, 12, true},\n",
    "        {1, \"Madrid\", 3207247, 667, false},\n",
    "        {2, \"València\", 791413, 15, true},\n",
    "        {3, \"Màlaga\", 569130, 11, true},\n",
    "        {4, \"Sevilla\", 688711, 7, false},\n",
    "        {5, \"Alicante\", 330525, 12, true},\n",
    "        {6, \"Zaragoza\", 664938, 220, false},\n",
    "        {7, \"Gijón\", 275735, 3, true},\n",
    "        {8, \"Palma de Mallorca\", 22610, 14, true},\n",
    "        {9, \"Bilbao\", 345821, 30, false}\n",
    "    };\n",
    "\n",
    "    // Aquests arrays podrien ser utilitzats per a controlar la presentació si fos necessari.\n",
    "    String[] columnes = {\"id\", \"ciutat\", \"poblacio\", \"altitud\", \"costera\"};\n",
    "    String[] alineacions = {\"left\", \"left\", \"center\", \"center\", \"right\"};\n",
    "    int[] amplades = {3, 10, 10, 8, 6};\n",
    "```\n",
    "```text\n",
    "------------------------------------------------\n",
    "|id  |ciutat     | poblacio  |altitud  |costera|\n",
    "------------------------------------------------\n",
    "|0   |Barcelona  | 1620343   |   12    |  True |\n",
    "|1   |Madrid     | 3207247   |  667    | False |\n",
    "|2   |València   |  791413   |   15    |  True |\n",
    "|3   |Màlaga     |  569130   |   11    |  True |\n",
    "|4   |Sevilla    |  688711   |   7     | False |\n",
    "|5   |Alicante   |  330525   |   12    |  True |\n",
    "|6   |Zaragoza   |  664938   |  220    | False |\n",
    "|7   |Gijón      |  275735   |   3     |  True |\n",
    "|8   |Palma de M |   22610   |   14    |  True |\n",
    "|9   |Bilbao     |  345821   |   30    | False |\n",
    "------------------------------------------------\n",
    "```"
   ]
  }
 ],
 "metadata": {
  "language_info": {
   "name": "python"
  }
 },
 "nbformat": 4,
 "nbformat_minor": 2
}
