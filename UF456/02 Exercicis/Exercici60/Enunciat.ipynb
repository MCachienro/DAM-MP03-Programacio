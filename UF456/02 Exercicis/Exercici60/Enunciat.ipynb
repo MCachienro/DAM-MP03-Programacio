{
 "cells": [
  {
   "cell_type": "markdown",
   "metadata": {},
   "source": [
    "<div style=\"display: flex; width: 100%;\">\n",
    "    <div style=\"flex: 1; padding: 0px;\">\n",
    "        <p>© Albert Palacios Jiménez, 2023</p>\n",
    "    </div>\n",
    "    <div style=\"flex: 1; padding: 0px; text-align: right;\">\n",
    "        <img src=\"../../assets/ieti.png\" height=\"32\" alt=\"Logo de IETI\" style=\"max-height: 32px;\">\n",
    "    </div>\n",
    "</div>\n",
    "<hr/>"
   ]
  },
  {
   "cell_type": "markdown",
   "metadata": {},
   "source": [
    "### Exercici 60\n",
    "\n",
    "Fes un programa que mostri i compti els múltiples de 7 entre 1 i 1000\n",
    "\n",
    "Nota, els múltiples de 7 dónen 0 com a residu quan es divideixen entre 7.\n",
    "\n",
    "Per exemple:\n",
    "```text\n",
    "7 / 7 = 1 i residu 0, és múltiple de 7\n",
    "14 / 7 = 2 i residu 0, és múltiple de 7\n",
    "15 / 7 = 2 i residu 1, no és múltiple de 7\n",
    "21 / 7 = 3 i residu 0, és múltiple de 7\n",
    "27 / 7 = 3 i residu 6, no és múltiple de 7\n",
    "```\n",
    "Per exemple, per 149:\n",
    "22: 0, 7, 14, 21, 28, 35, 42, 49, 56, 63, 70, 77, 84, 91, 98, 105, 112, 119, 126, 133, 140, 147, "
   ]
  }
 ],
 "metadata": {
  "language_info": {
   "name": "python"
  }
 },
 "nbformat": 4,
 "nbformat_minor": 2
}
