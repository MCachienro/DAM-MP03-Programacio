{
 "cells": [
  {
   "cell_type": "markdown",
   "metadata": {},
   "source": [
    "<div style=\"display: flex; width: 100%;\">\n",
    "    <div style=\"flex: 1; padding: 0px;\">\n",
    "        <p>© Albert Palacios Jiménez, 2023</p>\n",
    "    </div>\n",
    "    <div style=\"flex: 1; padding: 0px; text-align: right;\">\n",
    "        <img src=\"../../assets/ieti.png\" height=\"32\" alt=\"Logo de IETI\" style=\"max-height: 32px;\">\n",
    "    </div>\n",
    "</div>\n",
    "<hr/>"
   ]
  },
  {
   "cell_type": "markdown",
   "metadata": {},
   "source": [
    "### Exercici 18\n",
    "\n",
    "Un anagrama és un text, que passat a minúscules i ordenant els seus caràcters, és igual a un altre.\n",
    "\n",
    "Per exemple:\n",
    "```text\n",
    "Mare i Rema\n",
    "Porta i Tropa\n",
    "Triangle i Integral\n",
    "Sopa i Posa\n",
    "```\n",
    "Fes una funció anomenada \"son_anagrama\" que accepta dues paraules d'entrada, i retorna \"True\" o \"False\" segons si són anagrames.\n",
    "\n",
    "Per avaluar si són anagrames:\n",
    "* Treu tots els espais en blanc de les paraules\n",
    "* Passa les paraules a minúscules\n",
    "* Ordena les lletres de les paraules\n",
    "* Compara si els dos resultats anteriors són iguals\n",
    "\n",
    "S'ha de mostrar per pantalla: \n",
    "```text\n",
    "        \"Són les paraules 'X' i 'Y' anagrames? Z\"\n",
    "        On X i Y són les paraules d'entrada i Z és \"True\" o \"False\"\n",
    "```\n",
    "Validar els anagrames d'exemple anteriors, i un parell de proves amb quatre paraules que no siguin anagrames."
   ]
  }
 ],
 "metadata": {
  "language_info": {
   "name": "python"
  }
 },
 "nbformat": 4,
 "nbformat_minor": 2
}
