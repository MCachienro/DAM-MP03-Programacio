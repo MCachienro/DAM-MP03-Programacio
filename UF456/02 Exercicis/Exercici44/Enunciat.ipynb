{
 "cells": [
  {
   "cell_type": "markdown",
   "metadata": {},
   "source": [
    "<div style=\"display: flex; width: 100%;\">\n",
    "    <div style=\"flex: 1; padding: 0px;\">\n",
    "        <p>© Albert Palacios Jiménez, 2023</p>\n",
    "    </div>\n",
    "    <div style=\"flex: 1; padding: 0px; text-align: right;\">\n",
    "        <img src=\"../../assets/ieti.png\" height=\"32\" alt=\"Logo de IETI\" style=\"max-height: 32px;\">\n",
    "    </div>\n",
    "</div>\n",
    "<hr/>"
   ]
  },
  {
   "cell_type": "markdown",
   "metadata": {},
   "source": [
    "### Exercici 44\n",
    "\n",
    "Genera un triangle de X astericos.\n",
    "\n",
    "Demana un número entre 1 i 10 a l'usuari.\n",
    "\n",
    "Si l'usuari escrigui un número fora del rang, escriu: \"El número ha d'estar entre 1 i 10\".\n",
    "\n",
    "Si el número és correcte mostra el seu triangle d'astericos.\n",
    "\n",
    "Fes que surti centrat amb la funció de posicionament center a 10 asteriscos d'ample.\n",
    "\n",
    "Per exemple, per 4\n",
    "\n",
    "```text\n",
    "         *\n",
    "         **\n",
    "        ***\n",
    "        ****\n",
    "```"
   ]
  }
 ],
 "metadata": {
  "language_info": {
   "name": "python"
  }
 },
 "nbformat": 4,
 "nbformat_minor": 2
}
