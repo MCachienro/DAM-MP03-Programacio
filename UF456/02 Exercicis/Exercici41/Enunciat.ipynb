{
 "cells": [
  {
   "cell_type": "markdown",
   "metadata": {},
   "source": [
    "<div style=\"display: flex; width: 100%;\">\n",
    "    <div style=\"flex: 1; padding: 0px;\">\n",
    "        <p>© Albert Palacios Jiménez, 2023</p>\n",
    "    </div>\n",
    "    <div style=\"flex: 1; padding: 0px; text-align: right;\">\n",
    "        <img src=\"../../assets/ieti.png\" height=\"32\" alt=\"Logo de IETI\" style=\"max-height: 32px;\">\n",
    "    </div>\n",
    "</div>\n",
    "<hr/>"
   ]
  },
  {
   "cell_type": "markdown",
   "metadata": {},
   "source": [
    "### Exercici 41\n",
    "\n",
    "Fes un programa que demani un número i mostri la seva taula de multiplicar de 0 a 10.\n",
    "\n",
    "Per exemple, per 4:\n",
    "```text\n",
    "0 x 4 = 0\n",
    "1 x 4 = 4\n",
    "...\n",
    "10 x 4 = 40\n",
    "``````"
   ]
  }
 ],
 "metadata": {
  "language_info": {
   "name": "python"
  }
 },
 "nbformat": 4,
 "nbformat_minor": 2
}
