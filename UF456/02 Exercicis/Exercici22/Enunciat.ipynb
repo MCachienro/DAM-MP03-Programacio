{
 "cells": [
  {
   "cell_type": "markdown",
   "metadata": {},
   "source": [
    "<div style=\"display: flex; width: 100%;\">\n",
    "    <div style=\"flex: 1; padding: 0px;\">\n",
    "        <p>© Albert Palacios Jiménez, 2023</p>\n",
    "    </div>\n",
    "    <div style=\"flex: 1; padding: 0px; text-align: right;\">\n",
    "        <img src=\"../../assets/ieti.png\" height=\"32\" alt=\"Logo de IETI\" style=\"max-height: 32px;\">\n",
    "    </div>\n",
    "</div>\n",
    "<hr/>"
   ]
  },
  {
   "cell_type": "markdown",
   "metadata": {},
   "source": [
    "### Exercici 22\n",
    "\n",
    "Fes un programa que generi un número aleatòri entre 0 i 100, primer escriu \"El número escollit és: X\" on X és el número.\n",
    "\n",
    "Després:\n",
    "\n",
    "- Si el número és menor o igual a 25 escriurà \"El número és petit\"\n",
    "\n",
    "- Si el número està entre 26 o 74 inclòsos, escriurà \"El número és mitjà\"\n",
    "\n",
    "- Si el número és major o igual a 75 escriurà \"El número és gran\""
   ]
  }
 ],
 "metadata": {
  "language_info": {
   "name": "python"
  }
 },
 "nbformat": 4,
 "nbformat_minor": 2
}
