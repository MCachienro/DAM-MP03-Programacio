{
 "cells": [
  {
   "cell_type": "markdown",
   "metadata": {},
   "source": [
    "<div style=\"display: flex; width: 100%;\">\n",
    "    <div style=\"flex: 1; padding: 0px;\">\n",
    "        <p>© Albert Palacios Jiménez, 2023</p>\n",
    "    </div>\n",
    "    <div style=\"flex: 1; padding: 0px; text-align: right;\">\n",
    "        <img src=\"../../assets/ieti.png\" height=\"32\" alt=\"Logo de IETI\" style=\"max-height: 32px;\">\n",
    "    </div>\n",
    "</div>\n",
    "<hr/>"
   ]
  },
  {
   "cell_type": "markdown",
   "metadata": {},
   "source": [
    "### Exercici 68\n",
    "\n",
    "Fes una funció, que escrigui la informació de la matriu  d'arrays 'inventari_neteja' separada per categories.\n",
    "\n",
    "Potser necessites funcions auxiliars per:\n",
    "- Obtenir una llista amb totes les categories\n",
    "- Esriure la informació dels elements d'una determinada categoria\n",
    "\n",
    "Exemple:\n",
    "```python\n",
    "Categoria 'Casa':\n",
    "- Detergent, 5.99\n",
    "- Esprai netejador, 3.49\n",
    "...\n",
    "Categoria 'Personal':\n",
    "- Xampú, 4.99\n",
    "...\n",
    "```\n",
    "\n",
    "Prova-ho amb:\n",
    "\n",
    "```java\n",
    "Object[][] inventariNetja = {\n",
    "    {\"Detergent\", \"Casa\", 5.99},\n",
    "    {\"Netejador d'interiors\", \"Automoció\", 7.99},\n",
    "    {\"Tovalloles de paper\", \"Casa\", 2.99},\n",
    "    {\"Paper higiènic de luxe\", \"Personal\", 7.99},\n",
    "    {\"Netejador de vidres\", \"Casa\", 4.79},\n",
    "    {\"Aspiradora\", \"Casa\", 29.69},\n",
    "    {\"Cera de cotxes\", \"Automoció\", 8.49},\n",
    "    {\"Tovalloletes netejadores\", \"Personal\", 6.29},\n",
    "    {\"Xampú per al cos\", \"Personal\", 4.99},\n",
    "    {\"Sabó de mans líquid\", \"Personal\", 2.49},\n",
    "    {\"Esprai netejador\", \"Casa\", 3.49},\n",
    "    {\"Estopa de cotxes\", \"Automoció\", 1.99},\n",
    "};\n",
    "```\n",
    "\n",
    "**Nota**: Fixa't que 'Object' ens permet guardar dades genèriques en un array (en aquest cas un array d'arrays)"
   ]
  }
 ],
 "metadata": {
  "language_info": {
   "name": "python"
  }
 },
 "nbformat": 4,
 "nbformat_minor": 2
}
