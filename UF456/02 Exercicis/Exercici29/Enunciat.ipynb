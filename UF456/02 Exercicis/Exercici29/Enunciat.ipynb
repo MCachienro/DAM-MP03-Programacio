{
 "cells": [
  {
   "cell_type": "markdown",
   "metadata": {},
   "source": [
    "<div style=\"display: flex; width: 100%;\">\n",
    "    <div style=\"flex: 1; padding: 0px;\">\n",
    "        <p>© Albert Palacios Jiménez, 2023</p>\n",
    "    </div>\n",
    "    <div style=\"flex: 1; padding: 0px; text-align: right;\">\n",
    "        <img src=\"../../assets/ieti.png\" height=\"32\" alt=\"Logo de IETI\" style=\"max-height: 32px;\">\n",
    "    </div>\n",
    "</div>\n",
    "<hr/>"
   ]
  },
  {
   "cell_type": "markdown",
   "metadata": {},
   "source": [
    "### Exercici 29\n",
    "\n",
    "Fes una funció (valida_contrasenya) que a partir d'una contrasenya comprovi que compleix els següents requisits:\n",
    "\n",
    "* Tenir entre 5 i 10 caràcters (ambdós inclosos)\n",
    "* Tenir almenys dues lletres majúscules\n",
    "* Tenir almenys tres lletres minúscules\n",
    "* Tenir almenys dos números\n",
    "\n",
    "La funció ha de retornar `True` si la contrasenya és vàlida i `False` si no ho és.\n",
    "\n",
    "\n",
    "Aleshores fes un programa que demani una contrasenya i comprovi si és vàlida o no.\n",
    "\n",
    "* Si la contrasenya és vàlida el programa mostra: \"Contrasenya vàlida\"\n",
    "* Si no ho és mostra: \"Contrasenya no vàlida\"."
   ]
  }
 ],
 "metadata": {
  "language_info": {
   "name": "python"
  }
 },
 "nbformat": 4,
 "nbformat_minor": 2
}
