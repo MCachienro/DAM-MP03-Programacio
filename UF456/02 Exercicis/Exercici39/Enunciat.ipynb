{
 "cells": [
  {
   "cell_type": "markdown",
   "metadata": {},
   "source": [
    "<div style=\"display: flex; width: 100%;\">\n",
    "    <div style=\"flex: 1; padding: 0px;\">\n",
    "        <p>© Albert Palacios Jiménez, 2023</p>\n",
    "    </div>\n",
    "    <div style=\"flex: 1; padding: 0px; text-align: right;\">\n",
    "        <img src=\"../../assets/ieti.png\" height=\"32\" alt=\"Logo de IETI\" style=\"max-height: 32px;\">\n",
    "    </div>\n",
    "</div>\n",
    "<hr/>"
   ]
  },
  {
   "cell_type": "markdown",
   "metadata": {},
   "source": [
    "### Exercici 39\n",
    "\n",
    "Fes un programa per jugar a \"Roca, Paper, Tisores\"\n",
    "\n",
    "El programa demanarà a cada iteració quina és la opció de l'usuari i generarà una opció automàtica per part de l'ordinador.\n",
    "\n",
    "Es sortirà del bucle 'while' quan un dels dos participants hagi guanyat tres cops o bé quan l'usuari escrigui \"sortir\".\n",
    "\n",
    "Si l'usuari escriu sortir, s'escriu \"L'usuari ha sortit\"\n",
    "\n",
    "Exemple d'execució:\n",
    "```text\n",
    "Escriu la teva opció [Roca, Paper, Tisores, Sortir]: Roca\n",
    " - Jugador Roca vs. Ordinador Paper - Puntuació: Jugador 0 - Ordinador 1\n",
    "Escriu la teva opció [Roca, Paper, Tisores, Sortir]: Paper\n",
    " - Jugador Tisora vs. Ordinador Roca - Puntuació: Jugador 0 - Ordinador 2\n",
    "Escriu la teva opció [Roca, Paper, Tisores, Sortir]: Tisores\n",
    " - Jugador Tisora vs. Ordinador Tisora - Puntuació: Jugador 0 - Ordinador 2\n",
    "Escriu la teva opció [Roca, Paper, Tisores, Sortir]: Roca\n",
    " - Jugador Paper vs. Ordinador Roca - Puntuació: Jugador 1 - Ordinador 2\n",
    "Escriu la teva opció [Roca, Paper, Tisores, Sortir]: Paper\n",
    " - Jugador Paper vs. Ordinador Tisora - Puntuació: Jugador 1 - Ordinador 3\n",
    "Ha guanyat l'ordinador.\n",
    "```"
   ]
  }
 ],
 "metadata": {
  "language_info": {
   "name": "python"
  }
 },
 "nbformat": 4,
 "nbformat_minor": 2
}
