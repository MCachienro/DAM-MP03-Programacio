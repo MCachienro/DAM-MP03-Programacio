{
 "cells": [
  {
   "cell_type": "markdown",
   "metadata": {},
   "source": [
    "<div style=\"display: flex; width: 100%;\">\n",
    "    <div style=\"flex: 1; padding: 0px;\">\n",
    "        <p>© Albert Palacios Jiménez, 2023</p>\n",
    "    </div>\n",
    "    <div style=\"flex: 1; padding: 0px; text-align: right;\">\n",
    "        <img src=\"../../assets/ieti.png\" height=\"32\" alt=\"Logo de IETI\" style=\"max-height: 32px;\">\n",
    "    </div>\n",
    "</div>\n",
    "<hr/>"
   ]
  },
  {
   "cell_type": "markdown",
   "metadata": {},
   "source": [
    "### Exercici 36\n",
    "\n",
    "Fes un programa que generi un número aleatori entre 0 i 9 (inclòssos)\n",
    "\n",
    "Després demana a l'usuari que escrigui un número i comprova:\n",
    "\n",
    "- Si l'ha encertat escriu: \"Felicitats, has encertat amb X **intents**\"\n",
    "\n",
    "- Si no l'ha encertat i el número de l'usuari és més gran que el número secret escriu: \"Has escrit X, el número secret és més petit\"\n",
    "\n",
    "- Si no l'ha encertat i el número de l'usuari és més petit que el número secret escriu: \"Has escrit X, el número secret és més gran\"\n",
    "\n",
    "Aquest procés es repeteix fins que l'usuari encerta el número."
   ]
  }
 ],
 "metadata": {
  "language_info": {
   "name": "python"
  }
 },
 "nbformat": 4,
 "nbformat_minor": 2
}
