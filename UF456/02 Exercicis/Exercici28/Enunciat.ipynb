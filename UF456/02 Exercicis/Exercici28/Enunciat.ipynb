{
 "cells": [
  {
   "cell_type": "markdown",
   "metadata": {},
   "source": [
    "<div style=\"display: flex; width: 100%;\">\n",
    "    <div style=\"flex: 1; padding: 0px;\">\n",
    "        <p>© Albert Palacios Jiménez, 2023</p>\n",
    "    </div>\n",
    "    <div style=\"flex: 1; padding: 0px; text-align: right;\">\n",
    "        <img src=\"../../assets/ieti.png\" height=\"32\" alt=\"Logo de IETI\" style=\"max-height: 32px;\">\n",
    "    </div>\n",
    "</div>\n",
    "<hr/>"
   ]
  },
  {
   "cell_type": "markdown",
   "metadata": {},
   "source": [
    "### Exercici 28\n",
    "\n",
    "Fes un programa per convertir mesures. Et caldrà definir funcions de suport, sigues organitzat/da!\n",
    "\n",
    "El programa mostrarà aquest menú:\n",
    "```text\n",
    "Conversió de mesures:\n",
    "1. Metres a Milles\n",
    "2. Milles a Metres\n",
    "3. Metres a Polzades\n",
    "4. Polzades a Metres\n",
    "5. Polzades a Milles\n",
    "6. Milles a Polzades\n",
    "Escull una opció de conversió: \n",
    "```\n",
    "\n",
    "Un cop l'usuari premi la tecla corresponent es mostra un misatge:\n",
    "\n",
    "\"S'ha escollit conversió 'Metres a Milles', introdueix la quantitat de metres: \"\n",
    "\n",
    "Finalment es mostra el resultat de la conversió:\n",
    "\n",
    "\"La conversió 'Metres a Milles' de X metres és Z milles\"\n",
    "\n",
    "Els factors de conversió són:\n",
    "\n",
    "* 1 metre = 0.000621371 milles, 1 milles = 1609.34 metres\n",
    "* 1 metre = 39.3701 polzades, 1 polzada = 0.0254 metres\n",
    "* 1 polzada = 0.0000157828 milles, 1 milles = 63360 polzades"
   ]
  }
 ],
 "metadata": {
  "language_info": {
   "name": "python"
  }
 },
 "nbformat": 4,
 "nbformat_minor": 2
}
