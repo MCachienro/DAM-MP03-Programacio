{
 "cells": [
  {
   "cell_type": "markdown",
   "metadata": {},
   "source": [
    "<div style=\"display: flex; width: 100%;\">\n",
    "    <div style=\"flex: 1; padding: 0px;\">\n",
    "        <p>© Albert Palacios Jiménez, 2023</p>\n",
    "    </div>\n",
    "    <div style=\"flex: 1; padding: 0px; text-align: right;\">\n",
    "        <img src=\"../../assets/ieti.png\" height=\"32\" alt=\"Logo de IETI\" style=\"max-height: 32px;\">\n",
    "    </div>\n",
    "</div>\n",
    "<hr/>"
   ]
  },
  {
   "cell_type": "markdown",
   "metadata": {},
   "source": [
    "### Exercici 30\n",
    "\n",
    "Fes una funció (calcula_irpf) que calculi l'IRPF que ha de pagar una persona segons els ingressos bruts que té.\n",
    "\n",
    "Si et cal, fes altres funcions de suport a aquesta funció principal. Sigues organitzat/da!\n",
    "\n",
    "Aquests són els trams que ha de tenir en compte:\n",
    "```text\n",
    "                | Trams IRPF            |Total|\n",
    "                |-----------------------|-----|\n",
    "                | De 0 a 12.450€        | 19% |\n",
    "                | De 12.450€ a 20.200€  | 24% |\n",
    "                | De 20.200€ a 35.200€  | 30% |\n",
    "                | De 35.200€ a 60.000€  | 37% |\n",
    "                | De 60.000€ a 300.000€ | 45% |\n",
    "                | Més de 300.000€       | 47% |\n",
    "```\n",
    "Per exemple:\n",
    "\n",
    "* Si una persona cobra 10.200€, hauria de pagar el 19% = 1.938€\n",
    "```text\n",
    "+   0,19 *   10.200€           = 1.938,0€\n",
    "                               ----------\n",
    "                         Total:  1.938,0€\n",
    "```\n",
    "* Si una persona cobra 15.000€, hauria de pagar:\n",
    "```text\n",
    "    0,24 * (15.000€ - 12.450€) =   606,0€\n",
    "+   0,19 *  12.450€            = 2.365,5€\n",
    "                               ----------\n",
    "                         Total:  2.971,5€\n",
    "```\n",
    "* Si una persona cobra 22.000€, hauria de pagar:\n",
    "```text\n",
    "    0,3  * (22.000€ - 20.200€) =   540,0€\n",
    "    0,24 * (20.200€ - 12.450€) = 1.860,0€\n",
    "+   0,19 *  12.450€            = 2.365,5€\n",
    "                               ----------\n",
    "                         Total:  4.765,5€\n",
    "```\n",
    "Comprova:\n",
    "```text\n",
    "        * 7600 => 1444.0\n",
    "        * 16000 => 3217.5\n",
    "        * 26000 => 5965.5\n",
    "        * 32000 => 7765.5\n",
    "        * 54500 => 15866.5\n",
    "        * 64832 => 20075.9\n",
    "        * 275387 => 114825.65\n",
    "        * 765915 => 349540.69\n",
    "```"
   ]
  }
 ],
 "metadata": {
  "language_info": {
   "name": "python"
  }
 },
 "nbformat": 4,
 "nbformat_minor": 2
}
