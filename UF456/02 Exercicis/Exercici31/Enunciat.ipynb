{
 "cells": [
  {
   "cell_type": "markdown",
   "metadata": {},
   "source": [
    "<div style=\"display: flex; width: 100%;\">\n",
    "    <div style=\"flex: 1; padding: 0px;\">\n",
    "        <p>© Albert Palacios Jiménez, 2023</p>\n",
    "    </div>\n",
    "    <div style=\"flex: 1; padding: 0px; text-align: right;\">\n",
    "        <img src=\"../../assets/ieti.png\" height=\"32\" alt=\"Logo de IETI\" style=\"max-height: 32px;\">\n",
    "    </div>\n",
    "</div>\n",
    "<hr/>"
   ]
  },
  {
   "cell_type": "markdown",
   "metadata": {},
   "source": [
    "### Exercici 31\n",
    "\n",
    "Fes una funció (calcula_tarifa) que determini el cost mensual d'una factura telefònica segons els minuts que una persona ha parlat i el número de missatges (SMS) enviats. \n",
    "\n",
    "Considera també el cost fix mensual que inclogui certa quantitat de minuts i SMS gratuïts.\n",
    "\n",
    "Aquests són els detalls del pla:\n",
    "```text\n",
    "Cost fix mensual: 15€ (inclou 200 minuts gratuïts i 50 SMS gratuïts)\n",
    "Cost per minut addicional: 0,10€\n",
    "Cost per SMS addicional: 0,05€\n",
    "```\n",
    "Exemples:\n",
    "```text\n",
    "    * Parlar 150 minuts i enviar 40 SMS: Cost fix de 15€.\n",
    "    * Parlar 250 minuts i enviar 30 SMS: Cost fix (15€) cost addicional de 50 minuts (5€). Total = 20€.\n",
    "    * Parlar 220 minuts i enviar 80 SMS: Cost fix (15€), cost addicional de 20 minuts (2€) i 30 SMS (1,5€). Total = 18,5€.\n",
    "```\n",
    "Comprova que la funció calcula_tarifa funciona correctament amb els següents valors:\n",
    "```text\n",
    "* 148 minuts i 20 SMS => 15€\n",
    "* 264 minuts i 40 SMS => 21.4€\n",
    "* 420 minuts i 180 SMS => 43.5€\n",
    "* 520 minuts i 240 SMS => 56.5€\n",
    "```"
   ]
  }
 ],
 "metadata": {
  "language_info": {
   "name": "python"
  }
 },
 "nbformat": 4,
 "nbformat_minor": 2
}
