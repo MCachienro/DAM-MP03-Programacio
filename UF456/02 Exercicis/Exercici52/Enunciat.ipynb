{
 "cells": [
  {
   "cell_type": "markdown",
   "metadata": {},
   "source": [
    "<div style=\"display: flex; width: 100%;\">\n",
    "    <div style=\"flex: 1; padding: 0px;\">\n",
    "        <p>© Albert Palacios Jiménez, 2023</p>\n",
    "    </div>\n",
    "    <div style=\"flex: 1; padding: 0px; text-align: right;\">\n",
    "        <img src=\"../../assets/ieti.png\" height=\"32\" alt=\"Logo de IETI\" style=\"max-height: 32px;\">\n",
    "    </div>\n",
    "</div>\n",
    "<hr/>"
   ]
  },
  {
   "cell_type": "markdown",
   "metadata": {},
   "source": [
    "### Exerici 52\n",
    "\n",
    "Fes una funció (compta_vendes), que demani a l'usuari el valor en € d'unes quantes vendes. La funció ha de retornar:\n",
    "\n",
    "- El nombre de vendes entrades\n",
    "- La suma total\n",
    "- La mitjana\n",
    "\n",
    "Per deixar d'escriure vendes, l'usuari escriu 'fi'.\n",
    "\n",
    "Al final, el programa ha de mostrar:\n",
    "\n",
    "```\n",
    "S'han apuntat X vendes, amb un total de Y € i una mitjana de Z €.\n",
    "```"
   ]
  }
 ],
 "metadata": {
  "language_info": {
   "name": "python"
  }
 },
 "nbformat": 4,
 "nbformat_minor": 2
}
