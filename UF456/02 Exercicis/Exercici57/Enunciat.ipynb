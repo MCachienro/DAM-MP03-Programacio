{
 "cells": [
  {
   "cell_type": "markdown",
   "metadata": {},
   "source": [
    "<div style=\"display: flex; width: 100%;\">\n",
    "    <div style=\"flex: 1; padding: 0px;\">\n",
    "        <p>© Albert Palacios Jiménez, 2023</p>\n",
    "    </div>\n",
    "    <div style=\"flex: 1; padding: 0px; text-align: right;\">\n",
    "        <img src=\"../../assets/ieti.png\" height=\"32\" alt=\"Logo de IETI\" style=\"max-height: 32px;\">\n",
    "    </div>\n",
    "</div>\n",
    "<hr/>"
   ]
  },
  {
   "cell_type": "markdown",
   "metadata": {},
   "source": [
    "### Exerici 57\n",
    "\n",
    "Fes una funció (taules_sumar) que rebi dos paràmetres:\n",
    "\n",
    "* Taula inicial\n",
    "* Taula final\n",
    "\n",
    "I escrigui per pantalla les taules de sumar des de la taula inicial fins a la taula final, per valors entre 0 i 4.\n",
    "\n",
    "Ha de separar les taules amb cinc guions \"-----\".\n",
    "\n",
    "Exemples:\n",
    "\n",
    "```python\n",
    "taules_sumar(3, 4)\n",
    "3 + 0 = 3\n",
    "3 + 1 = 4\n",
    "3 + 2 = 5\n",
    "3 + 3 = 6\n",
    "3 + 4 = 7\n",
    "-----\n",
    "4 + 0 = 4\n",
    "4 + 1 = 5\n",
    "4 + 2 = 6\n",
    "4 + 3 = 7\n",
    "4 + 4 = 8\n",
    "-----\n",
    "\n",
    "taules_sumar(5, 7)\n",
    "5 + 0 = 5\n",
    "5 + 1 = 6\n",
    "5 + 2 = 7\n",
    "5 + 3 = 8\n",
    "5 + 4 = 9\n",
    "-----\n",
    "6 + 0 = 6\n",
    "6 + 1 = 7\n",
    "6 + 2 = 8\n",
    "6 + 3 = 9\n",
    "6 + 4 = 10\n",
    "-----\n",
    "7 + 0 = 7\n",
    "7 + 1 = 8\n",
    "7 + 2 = 9\n",
    "7 + 3 = 10\n",
    "7 + 4 = 11\n",
    "-----\n",
    "```"
   ]
  }
 ],
 "metadata": {
  "language_info": {
   "name": "python"
  }
 },
 "nbformat": 4,
 "nbformat_minor": 2
}
