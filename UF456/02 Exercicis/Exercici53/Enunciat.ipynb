{
 "cells": [
  {
   "cell_type": "markdown",
   "metadata": {},
   "source": [
    "<div style=\"display: flex; width: 100%;\">\n",
    "    <div style=\"flex: 1; padding: 0px;\">\n",
    "        <p>© Albert Palacios Jiménez, 2023</p>\n",
    "    </div>\n",
    "    <div style=\"flex: 1; padding: 0px; text-align: right;\">\n",
    "        <img src=\"../../assets/ieti.png\" height=\"32\" alt=\"Logo de IETI\" style=\"max-height: 32px;\">\n",
    "    </div>\n",
    "</div>\n",
    "<hr/>"
   ]
  },
  {
   "cell_type": "markdown",
   "metadata": {},
   "source": [
    "### Exerici 53\n",
    "\n",
    "Fes una funció (calcula_comisió), que demana a un empleat que escrigui les vendes que ha realitzat.\n",
    "\n",
    "Demanarà vendes fins que l'empleat escrigui 'fi'.\n",
    "\n",
    "Per cada venda, es calcula la comissió següent:\n",
    "\n",
    "* Si la venda és inferior a 1000 €, la comissió és del 5%\n",
    "* Si la venda és igual o superior a 1000 € i inferior a 5000 €, la comissió és del 7%\n",
    "* Si la venda és igual o superior a 5000 €, la comissió és del 10%\n",
    "\n",
    "La funció ha de retornar:\n",
    "\n",
    "* El nombre de vendes entrades\n",
    "* La suma total\n",
    "* La suma sense la comissió\n",
    "* La mitjana\n",
    "* La comissió total\n",
    "\n",
    "Al final, el programa ha de mostrar:\n",
    "```text\n",
    "S'han entrat X vendes, amb un total de Y € i una mitjana de Z €. \n",
    "S'ha aconseguit una comissió de W €.\n",
    "```"
   ]
  }
 ],
 "metadata": {
  "language_info": {
   "name": "python"
  }
 },
 "nbformat": 4,
 "nbformat_minor": 2
}
