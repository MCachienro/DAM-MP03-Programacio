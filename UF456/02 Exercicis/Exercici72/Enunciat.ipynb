{
 "cells": [
  {
   "cell_type": "markdown",
   "metadata": {},
   "source": [
    "<div style=\"display: flex; width: 100%;\">\n",
    "    <div style=\"flex: 1; padding: 0px;\">\n",
    "        <p>© Albert Palacios Jiménez, 2023</p>\n",
    "    </div>\n",
    "    <div style=\"flex: 1; padding: 0px; text-align: right;\">\n",
    "        <img src=\"../../assets/ieti.png\" height=\"32\" alt=\"Logo de IETI\" style=\"max-height: 32px;\">\n",
    "    </div>\n",
    "</div>\n",
    "<hr/>"
   ]
  },
  {
   "cell_type": "markdown",
   "metadata": {},
   "source": [
    "### Exercici 72\n",
    "\n",
    "Fes dues funcions 'calculaMajuscules' i 'calculaMinuscules' que retornin el número de majúscules i minúscules d'un text respectivament.\n",
    "\n",
    "El càlcul es fa així:\n",
    "```python\n",
    "        numero_majuscules = longitud_del_text - longitud_del_text_sense_majuscules\n",
    "        numero_minuscules = longitud_del_text - longitud_del_text_sense_minuscules\n",
    "```"
   ]
  }
 ],
 "metadata": {
  "language_info": {
   "name": "python"
  }
 },
 "nbformat": 4,
 "nbformat_minor": 2
}
