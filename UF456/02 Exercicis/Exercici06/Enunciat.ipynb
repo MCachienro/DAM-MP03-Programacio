{
 "cells": [
  {
   "cell_type": "markdown",
   "metadata": {},
   "source": [
    "<div style=\"display: flex; width: 100%;\">\n",
    "    <div style=\"flex: 1; padding: 0px;\">\n",
    "        <p>© Albert Palacios Jiménez, 2023</p>\n",
    "    </div>\n",
    "    <div style=\"flex: 1; padding: 0px; text-align: right;\">\n",
    "        <img src=\"../../assets/ieti.png\" height=\"32\" alt=\"Logo de IETI\" style=\"max-height: 32px;\">\n",
    "    </div>\n",
    "</div>\n",
    "<hr/>"
   ]
  },
  {
   "cell_type": "markdown",
   "metadata": {},
   "source": [
    "### Exercici 6\n",
    "\n",
    "Fes un programa que converteixi un valor en Euros cap a Dollars, per fer-ho ha de demanar:\n",
    "\n",
    "* El valor en Euros que es vol convertir\n",
    "* La tasa de conversió que ha d'aplicar\n",
    "\n",
    "Ha de mostrar la quantitat resultant com a: \"El valor de X€ són Y$\"\n",
    "\n",
    "La operació és senzilla, simplement és multiplicar els euros pel valor de la tasa de conversió\n",
    "\n",
    "On X són els euros introduits i Y el resultat de la conversió."
   ]
  }
 ],
 "metadata": {
  "language_info": {
   "name": "python"
  }
 },
 "nbformat": 4,
 "nbformat_minor": 2
}
