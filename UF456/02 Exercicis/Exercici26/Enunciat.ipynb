{
 "cells": [
  {
   "cell_type": "markdown",
   "metadata": {},
   "source": [
    "<div style=\"display: flex; width: 100%;\">\n",
    "    <div style=\"flex: 1; padding: 0px;\">\n",
    "        <p>© Albert Palacios Jiménez, 2023</p>\n",
    "    </div>\n",
    "    <div style=\"flex: 1; padding: 0px; text-align: right;\">\n",
    "        <img src=\"../../assets/ieti.png\" height=\"32\" alt=\"Logo de IETI\" style=\"max-height: 32px;\">\n",
    "    </div>\n",
    "</div>\n",
    "<hr/>"
   ]
  },
  {
   "cell_type": "markdown",
   "metadata": {},
   "source": [
    "### Exercici 26\n",
    "\n",
    "Fes una funció (calcula_interessos) que calculi els interessos que es paga per una hipotèca, segons un capital inicial, un interès i un nombre de mesos.\n",
    "\n",
    "Per exemple, si el capital inicial és de 1000€, l'interès del 5% i el nombre de mesos 10, el resultat hauria de ser 50€.\n",
    "\n",
    "**Pista**: Els interessos es calculen com a `capital * interès * mesos / 100`.\n",
    "\n",
    "Comprova que la funció 'calcula_interessos' funciona correctament amb els següents valors: \n",
    "\n",
    "* 1000, 5, 10 => 500\n",
    "* 2500, 3, 12 => 900\n",
    "* 7464, 4, 14 => 4179.84\n",
    "* 10000, 2, 24 => 4800"
   ]
  }
 ],
 "metadata": {
  "language_info": {
   "name": "python"
  }
 },
 "nbformat": 4,
 "nbformat_minor": 2
}
