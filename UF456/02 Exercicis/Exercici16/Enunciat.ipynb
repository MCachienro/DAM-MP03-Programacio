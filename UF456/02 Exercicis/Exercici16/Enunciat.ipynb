{
 "cells": [
  {
   "cell_type": "markdown",
   "metadata": {},
   "source": [
    "<div style=\"display: flex; width: 100%;\">\n",
    "    <div style=\"flex: 1; padding: 0px;\">\n",
    "        <p>© Albert Palacios Jiménez, 2023</p>\n",
    "    </div>\n",
    "    <div style=\"flex: 1; padding: 0px; text-align: right;\">\n",
    "        <img src=\"../../assets/ieti.png\" height=\"32\" alt=\"Logo de IETI\" style=\"max-height: 32px;\">\n",
    "    </div>\n",
    "</div>\n",
    "<hr/>"
   ]
  },
  {
   "cell_type": "markdown",
   "metadata": {},
   "source": [
    "### Exercici 16\n",
    "\n",
    "Fes un programa JAVA amb  dues funcions:\n",
    "\n",
    "* \"demana_info\" que demana a l'usuari el títol, director i any i retorna tres valors\n",
    "\n",
    "* \"informacio_peli\" que accepta 3 paràmetres: titol, director, any i mostra la informació així:\n",
    "```text\n",
    "        Títol: Gattacca, Director: Andrew Niccol, Any: 1997\n",
    "```\n",
    "El programa ha de demanar i mostrar la informació de 2 pel·lícules."
   ]
  }
 ],
 "metadata": {
  "language_info": {
   "name": "python"
  }
 },
 "nbformat": 4,
 "nbformat_minor": 2
}
