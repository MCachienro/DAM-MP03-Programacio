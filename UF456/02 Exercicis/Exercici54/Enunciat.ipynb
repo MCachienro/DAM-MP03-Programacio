{
 "cells": [
  {
   "cell_type": "markdown",
   "metadata": {},
   "source": [
    "<div style=\"display: flex; width: 100%;\">\n",
    "    <div style=\"flex: 1; padding: 0px;\">\n",
    "        <p>© Albert Palacios Jiménez, 2023</p>\n",
    "    </div>\n",
    "    <div style=\"flex: 1; padding: 0px; text-align: right;\">\n",
    "        <img src=\"../../assets/ieti.png\" height=\"32\" alt=\"Logo de IETI\" style=\"max-height: 32px;\">\n",
    "    </div>\n",
    "</div>\n",
    "<hr/>"
   ]
  },
  {
   "cell_type": "markdown",
   "metadata": {},
   "source": [
    "### Exerici 54\n",
    "\n",
    "**Compta el preu de la frase.**\n",
    "\n",
    "Fes una funció que rep una frase com a paràmetre, i torna el preu de la frase.\n",
    "\n",
    "El preu de la frase és:\n",
    "\n",
    "* 0.05 per cada lletra\n",
    "* 0.10 per cada número\n",
    "* 0.05 per cada 'a', o 'A'\n",
    "* 0.15 per cada 'b', 'f', 'h', 'l', 'p', 't', 'v'\n",
    "* 0.30 per cada 'G', 'J', 'K', 'M', 'N', 'Q', 'Z'\n",
    "\n",
    "Comprova:\n",
    "```text\n",
    "El preu de la frase 'Hello World 123 AaBbZz' és: 2.4\n",
    "El preu de la frase 'En Gabriel ha comprat 3 kg de taronges' és: 2.9\n",
    "El preu de la frase 'Jo tinc 2 germans, un es diu Quim i l\\'altre Zahir' és: 3.69\n",
    "```\n"
   ]
  }
 ],
 "metadata": {
  "language_info": {
   "name": "python"
  }
 },
 "nbformat": 4,
 "nbformat_minor": 2
}
